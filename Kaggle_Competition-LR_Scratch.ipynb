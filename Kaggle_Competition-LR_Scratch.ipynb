{
 "cells": [
  {
   "cell_type": "code",
   "execution_count": 2,
   "metadata": {},
   "outputs": [],
   "source": [
    "import sys\n",
    "import numpy as np\n",
    "import pandas as pd\n",
    "import matplotlib.pyplot as plt\n",
    "import seaborn as sb\n",
    "%matplotlib inline\n",
    "from tqdm import tqdm\n",
    "import warnings\n",
    "warnings.simplefilter(action='ignore')"
   ]
  },
  {
   "cell_type": "code",
   "execution_count": 3,
   "metadata": {},
   "outputs": [
    {
     "data": {
      "text/html": [
       "<div>\n",
       "<style scoped>\n",
       "    .dataframe tbody tr th:only-of-type {\n",
       "        vertical-align: middle;\n",
       "    }\n",
       "\n",
       "    .dataframe tbody tr th {\n",
       "        vertical-align: top;\n",
       "    }\n",
       "\n",
       "    .dataframe thead th {\n",
       "        text-align: right;\n",
       "    }\n",
       "</style>\n",
       "<table border=\"1\" class=\"dataframe\">\n",
       "  <thead>\n",
       "    <tr style=\"text-align: right;\">\n",
       "      <th></th>\n",
       "      <th>Feature 1</th>\n",
       "      <th>Feature 2</th>\n",
       "      <th>Feature 3</th>\n",
       "      <th>Feature 4</th>\n",
       "      <th>Feature 5</th>\n",
       "      <th>Feature 6</th>\n",
       "      <th>Feature 7</th>\n",
       "      <th>Feature 8</th>\n",
       "      <th>Feature 9</th>\n",
       "      <th>Feature 10</th>\n",
       "      <th>...</th>\n",
       "      <th>Feature 1560</th>\n",
       "      <th>Feature 1561</th>\n",
       "      <th>Feature 1562</th>\n",
       "      <th>Feature 1563</th>\n",
       "      <th>Feature 1564</th>\n",
       "      <th>Feature 1565</th>\n",
       "      <th>Feature 1566</th>\n",
       "      <th>Feature 1567</th>\n",
       "      <th>Feature 1568</th>\n",
       "      <th>Unnamed: 1568</th>\n",
       "    </tr>\n",
       "  </thead>\n",
       "  <tbody>\n",
       "    <tr>\n",
       "      <th>0</th>\n",
       "      <td>0.0</td>\n",
       "      <td>0.0</td>\n",
       "      <td>0.0</td>\n",
       "      <td>0.0</td>\n",
       "      <td>0.0</td>\n",
       "      <td>0.0</td>\n",
       "      <td>0.0</td>\n",
       "      <td>0.0</td>\n",
       "      <td>0.0</td>\n",
       "      <td>0.0</td>\n",
       "      <td>...</td>\n",
       "      <td>3.854928e-19</td>\n",
       "      <td>-1.329011e-20</td>\n",
       "      <td>4.204335e-21</td>\n",
       "      <td>4.428740e-21</td>\n",
       "      <td>4.461340e-23</td>\n",
       "      <td>2.376798e-24</td>\n",
       "      <td>-7.807106e-24</td>\n",
       "      <td>2.379322e-24</td>\n",
       "      <td>-5.582096e-26</td>\n",
       "      <td>NaN</td>\n",
       "    </tr>\n",
       "    <tr>\n",
       "      <th>1</th>\n",
       "      <td>0.0</td>\n",
       "      <td>0.0</td>\n",
       "      <td>0.0</td>\n",
       "      <td>0.0</td>\n",
       "      <td>0.0</td>\n",
       "      <td>0.0</td>\n",
       "      <td>0.0</td>\n",
       "      <td>0.0</td>\n",
       "      <td>0.0</td>\n",
       "      <td>0.0</td>\n",
       "      <td>...</td>\n",
       "      <td>-7.118652e-20</td>\n",
       "      <td>4.062297e-21</td>\n",
       "      <td>-7.743107e-21</td>\n",
       "      <td>8.638654e-22</td>\n",
       "      <td>-1.006311e-21</td>\n",
       "      <td>-2.267525e-22</td>\n",
       "      <td>-5.867730e-23</td>\n",
       "      <td>4.858047e-24</td>\n",
       "      <td>-4.595498e-25</td>\n",
       "      <td>NaN</td>\n",
       "    </tr>\n",
       "    <tr>\n",
       "      <th>2</th>\n",
       "      <td>0.0</td>\n",
       "      <td>0.0</td>\n",
       "      <td>0.0</td>\n",
       "      <td>0.0</td>\n",
       "      <td>0.0</td>\n",
       "      <td>0.0</td>\n",
       "      <td>0.0</td>\n",
       "      <td>0.0</td>\n",
       "      <td>0.0</td>\n",
       "      <td>0.0</td>\n",
       "      <td>...</td>\n",
       "      <td>-4.619224e-20</td>\n",
       "      <td>-3.590984e-20</td>\n",
       "      <td>-2.717642e-20</td>\n",
       "      <td>1.923565e-20</td>\n",
       "      <td>-2.244442e-21</td>\n",
       "      <td>-4.244237e-24</td>\n",
       "      <td>-3.599564e-23</td>\n",
       "      <td>7.471194e-24</td>\n",
       "      <td>-3.815300e-24</td>\n",
       "      <td>NaN</td>\n",
       "    </tr>\n",
       "    <tr>\n",
       "      <th>3</th>\n",
       "      <td>0.0</td>\n",
       "      <td>0.0</td>\n",
       "      <td>0.0</td>\n",
       "      <td>0.0</td>\n",
       "      <td>0.0</td>\n",
       "      <td>0.0</td>\n",
       "      <td>0.0</td>\n",
       "      <td>0.0</td>\n",
       "      <td>0.0</td>\n",
       "      <td>0.0</td>\n",
       "      <td>...</td>\n",
       "      <td>-5.346105e-19</td>\n",
       "      <td>-6.278001e-19</td>\n",
       "      <td>-5.786255e-19</td>\n",
       "      <td>2.573141e-19</td>\n",
       "      <td>2.385063e-19</td>\n",
       "      <td>6.655487e-20</td>\n",
       "      <td>2.834975e-20</td>\n",
       "      <td>3.356577e-21</td>\n",
       "      <td>1.698628e-21</td>\n",
       "      <td>NaN</td>\n",
       "    </tr>\n",
       "    <tr>\n",
       "      <th>4</th>\n",
       "      <td>0.0</td>\n",
       "      <td>0.0</td>\n",
       "      <td>0.0</td>\n",
       "      <td>0.0</td>\n",
       "      <td>0.0</td>\n",
       "      <td>0.0</td>\n",
       "      <td>0.0</td>\n",
       "      <td>0.0</td>\n",
       "      <td>0.0</td>\n",
       "      <td>0.0</td>\n",
       "      <td>...</td>\n",
       "      <td>5.494150e-20</td>\n",
       "      <td>-1.187973e-20</td>\n",
       "      <td>-1.450941e-21</td>\n",
       "      <td>8.954877e-22</td>\n",
       "      <td>-2.645088e-22</td>\n",
       "      <td>1.365356e-23</td>\n",
       "      <td>8.062470e-24</td>\n",
       "      <td>-1.235689e-24</td>\n",
       "      <td>1.890073e-25</td>\n",
       "      <td>NaN</td>\n",
       "    </tr>\n",
       "    <tr>\n",
       "      <th>...</th>\n",
       "      <td>...</td>\n",
       "      <td>...</td>\n",
       "      <td>...</td>\n",
       "      <td>...</td>\n",
       "      <td>...</td>\n",
       "      <td>...</td>\n",
       "      <td>...</td>\n",
       "      <td>...</td>\n",
       "      <td>...</td>\n",
       "      <td>...</td>\n",
       "      <td>...</td>\n",
       "      <td>...</td>\n",
       "      <td>...</td>\n",
       "      <td>...</td>\n",
       "      <td>...</td>\n",
       "      <td>...</td>\n",
       "      <td>...</td>\n",
       "      <td>...</td>\n",
       "      <td>...</td>\n",
       "      <td>...</td>\n",
       "      <td>...</td>\n",
       "    </tr>\n",
       "    <tr>\n",
       "      <th>49995</th>\n",
       "      <td>0.0</td>\n",
       "      <td>0.0</td>\n",
       "      <td>0.0</td>\n",
       "      <td>0.0</td>\n",
       "      <td>0.0</td>\n",
       "      <td>0.0</td>\n",
       "      <td>0.0</td>\n",
       "      <td>0.0</td>\n",
       "      <td>0.0</td>\n",
       "      <td>0.0</td>\n",
       "      <td>...</td>\n",
       "      <td>-9.956413e-22</td>\n",
       "      <td>7.012638e-21</td>\n",
       "      <td>-1.749799e-21</td>\n",
       "      <td>-5.296019e-22</td>\n",
       "      <td>5.324962e-23</td>\n",
       "      <td>-7.651382e-24</td>\n",
       "      <td>-1.189074e-23</td>\n",
       "      <td>-3.929069e-24</td>\n",
       "      <td>1.550829e-24</td>\n",
       "      <td>NaN</td>\n",
       "    </tr>\n",
       "    <tr>\n",
       "      <th>49996</th>\n",
       "      <td>0.0</td>\n",
       "      <td>0.0</td>\n",
       "      <td>0.0</td>\n",
       "      <td>0.0</td>\n",
       "      <td>0.0</td>\n",
       "      <td>0.0</td>\n",
       "      <td>0.0</td>\n",
       "      <td>0.0</td>\n",
       "      <td>0.0</td>\n",
       "      <td>0.0</td>\n",
       "      <td>...</td>\n",
       "      <td>-2.386547e-22</td>\n",
       "      <td>3.369363e-23</td>\n",
       "      <td>1.459011e-23</td>\n",
       "      <td>5.123315e-25</td>\n",
       "      <td>-5.553792e-25</td>\n",
       "      <td>-1.656932e-25</td>\n",
       "      <td>-4.579053e-26</td>\n",
       "      <td>5.280697e-26</td>\n",
       "      <td>1.550841e-26</td>\n",
       "      <td>NaN</td>\n",
       "    </tr>\n",
       "    <tr>\n",
       "      <th>49997</th>\n",
       "      <td>0.0</td>\n",
       "      <td>0.0</td>\n",
       "      <td>0.0</td>\n",
       "      <td>0.0</td>\n",
       "      <td>0.0</td>\n",
       "      <td>0.0</td>\n",
       "      <td>0.0</td>\n",
       "      <td>0.0</td>\n",
       "      <td>0.0</td>\n",
       "      <td>0.0</td>\n",
       "      <td>...</td>\n",
       "      <td>-1.566546e-20</td>\n",
       "      <td>6.858092e-21</td>\n",
       "      <td>1.256228e-21</td>\n",
       "      <td>-3.157088e-22</td>\n",
       "      <td>1.984213e-23</td>\n",
       "      <td>1.134711e-23</td>\n",
       "      <td>-3.192012e-24</td>\n",
       "      <td>1.801697e-25</td>\n",
       "      <td>-1.020857e-26</td>\n",
       "      <td>NaN</td>\n",
       "    </tr>\n",
       "    <tr>\n",
       "      <th>49998</th>\n",
       "      <td>0.0</td>\n",
       "      <td>0.0</td>\n",
       "      <td>0.0</td>\n",
       "      <td>0.0</td>\n",
       "      <td>0.0</td>\n",
       "      <td>0.0</td>\n",
       "      <td>0.0</td>\n",
       "      <td>0.0</td>\n",
       "      <td>0.0</td>\n",
       "      <td>0.0</td>\n",
       "      <td>...</td>\n",
       "      <td>-1.839305e-21</td>\n",
       "      <td>3.174579e-20</td>\n",
       "      <td>7.510705e-21</td>\n",
       "      <td>-1.584091e-21</td>\n",
       "      <td>9.770302e-23</td>\n",
       "      <td>1.247588e-22</td>\n",
       "      <td>5.449431e-24</td>\n",
       "      <td>2.336028e-24</td>\n",
       "      <td>2.577251e-24</td>\n",
       "      <td>NaN</td>\n",
       "    </tr>\n",
       "    <tr>\n",
       "      <th>49999</th>\n",
       "      <td>0.0</td>\n",
       "      <td>0.0</td>\n",
       "      <td>0.0</td>\n",
       "      <td>0.0</td>\n",
       "      <td>0.0</td>\n",
       "      <td>0.0</td>\n",
       "      <td>0.0</td>\n",
       "      <td>0.0</td>\n",
       "      <td>0.0</td>\n",
       "      <td>0.0</td>\n",
       "      <td>...</td>\n",
       "      <td>9.899082e-17</td>\n",
       "      <td>8.549260e-17</td>\n",
       "      <td>1.099950e-18</td>\n",
       "      <td>-8.754949e-19</td>\n",
       "      <td>1.678472e-20</td>\n",
       "      <td>-1.834816e-20</td>\n",
       "      <td>-1.115471e-20</td>\n",
       "      <td>-4.795634e-21</td>\n",
       "      <td>-1.559397e-22</td>\n",
       "      <td>NaN</td>\n",
       "    </tr>\n",
       "  </tbody>\n",
       "</table>\n",
       "<p>50000 rows × 1569 columns</p>\n",
       "</div>"
      ],
      "text/plain": [
       "       Feature 1  Feature 2  Feature 3  Feature 4  Feature 5  Feature 6  \\\n",
       "0            0.0        0.0        0.0        0.0        0.0        0.0   \n",
       "1            0.0        0.0        0.0        0.0        0.0        0.0   \n",
       "2            0.0        0.0        0.0        0.0        0.0        0.0   \n",
       "3            0.0        0.0        0.0        0.0        0.0        0.0   \n",
       "4            0.0        0.0        0.0        0.0        0.0        0.0   \n",
       "...          ...        ...        ...        ...        ...        ...   \n",
       "49995        0.0        0.0        0.0        0.0        0.0        0.0   \n",
       "49996        0.0        0.0        0.0        0.0        0.0        0.0   \n",
       "49997        0.0        0.0        0.0        0.0        0.0        0.0   \n",
       "49998        0.0        0.0        0.0        0.0        0.0        0.0   \n",
       "49999        0.0        0.0        0.0        0.0        0.0        0.0   \n",
       "\n",
       "       Feature 7  Feature 8  Feature 9  Feature 10  ...  Feature 1560  \\\n",
       "0            0.0        0.0        0.0         0.0  ...  3.854928e-19   \n",
       "1            0.0        0.0        0.0         0.0  ... -7.118652e-20   \n",
       "2            0.0        0.0        0.0         0.0  ... -4.619224e-20   \n",
       "3            0.0        0.0        0.0         0.0  ... -5.346105e-19   \n",
       "4            0.0        0.0        0.0         0.0  ...  5.494150e-20   \n",
       "...          ...        ...        ...         ...  ...           ...   \n",
       "49995        0.0        0.0        0.0         0.0  ... -9.956413e-22   \n",
       "49996        0.0        0.0        0.0         0.0  ... -2.386547e-22   \n",
       "49997        0.0        0.0        0.0         0.0  ... -1.566546e-20   \n",
       "49998        0.0        0.0        0.0         0.0  ... -1.839305e-21   \n",
       "49999        0.0        0.0        0.0         0.0  ...  9.899082e-17   \n",
       "\n",
       "       Feature 1561  Feature 1562  Feature 1563  Feature 1564  Feature 1565  \\\n",
       "0     -1.329011e-20  4.204335e-21  4.428740e-21  4.461340e-23  2.376798e-24   \n",
       "1      4.062297e-21 -7.743107e-21  8.638654e-22 -1.006311e-21 -2.267525e-22   \n",
       "2     -3.590984e-20 -2.717642e-20  1.923565e-20 -2.244442e-21 -4.244237e-24   \n",
       "3     -6.278001e-19 -5.786255e-19  2.573141e-19  2.385063e-19  6.655487e-20   \n",
       "4     -1.187973e-20 -1.450941e-21  8.954877e-22 -2.645088e-22  1.365356e-23   \n",
       "...             ...           ...           ...           ...           ...   \n",
       "49995  7.012638e-21 -1.749799e-21 -5.296019e-22  5.324962e-23 -7.651382e-24   \n",
       "49996  3.369363e-23  1.459011e-23  5.123315e-25 -5.553792e-25 -1.656932e-25   \n",
       "49997  6.858092e-21  1.256228e-21 -3.157088e-22  1.984213e-23  1.134711e-23   \n",
       "49998  3.174579e-20  7.510705e-21 -1.584091e-21  9.770302e-23  1.247588e-22   \n",
       "49999  8.549260e-17  1.099950e-18 -8.754949e-19  1.678472e-20 -1.834816e-20   \n",
       "\n",
       "       Feature 1566  Feature 1567  Feature 1568  Unnamed: 1568  \n",
       "0     -7.807106e-24  2.379322e-24 -5.582096e-26            NaN  \n",
       "1     -5.867730e-23  4.858047e-24 -4.595498e-25            NaN  \n",
       "2     -3.599564e-23  7.471194e-24 -3.815300e-24            NaN  \n",
       "3      2.834975e-20  3.356577e-21  1.698628e-21            NaN  \n",
       "4      8.062470e-24 -1.235689e-24  1.890073e-25            NaN  \n",
       "...             ...           ...           ...            ...  \n",
       "49995 -1.189074e-23 -3.929069e-24  1.550829e-24            NaN  \n",
       "49996 -4.579053e-26  5.280697e-26  1.550841e-26            NaN  \n",
       "49997 -3.192012e-24  1.801697e-25 -1.020857e-26            NaN  \n",
       "49998  5.449431e-24  2.336028e-24  2.577251e-24            NaN  \n",
       "49999 -1.115471e-20 -4.795634e-21 -1.559397e-22            NaN  \n",
       "\n",
       "[50000 rows x 1569 columns]"
      ]
     },
     "execution_count": 3,
     "metadata": {},
     "output_type": "execute_result"
    }
   ],
   "source": [
    "# Train Data\n",
    "train = pd.read_csv('data/train.csv')\n",
    "train"
   ]
  },
  {
   "cell_type": "code",
   "execution_count": 4,
   "metadata": {},
   "outputs": [
    {
     "data": {
      "text/plain": [
       "(50000, 1569)"
      ]
     },
     "execution_count": 4,
     "metadata": {},
     "output_type": "execute_result"
    }
   ],
   "source": [
    "train.shape"
   ]
  },
  {
   "cell_type": "code",
   "execution_count": 5,
   "metadata": {},
   "outputs": [
    {
     "data": {
      "text/html": [
       "<div>\n",
       "<style scoped>\n",
       "    .dataframe tbody tr th:only-of-type {\n",
       "        vertical-align: middle;\n",
       "    }\n",
       "\n",
       "    .dataframe tbody tr th {\n",
       "        vertical-align: top;\n",
       "    }\n",
       "\n",
       "    .dataframe thead th {\n",
       "        text-align: right;\n",
       "    }\n",
       "</style>\n",
       "<table border=\"1\" class=\"dataframe\">\n",
       "  <thead>\n",
       "    <tr style=\"text-align: right;\">\n",
       "      <th></th>\n",
       "      <th>Feature 1</th>\n",
       "      <th>Feature 2</th>\n",
       "      <th>Feature 3</th>\n",
       "      <th>Feature 4</th>\n",
       "      <th>Feature 5</th>\n",
       "      <th>Feature 6</th>\n",
       "      <th>Feature 7</th>\n",
       "      <th>Feature 8</th>\n",
       "      <th>Feature 9</th>\n",
       "      <th>Feature 10</th>\n",
       "      <th>...</th>\n",
       "      <th>Feature 1560</th>\n",
       "      <th>Feature 1561</th>\n",
       "      <th>Feature 1562</th>\n",
       "      <th>Feature 1563</th>\n",
       "      <th>Feature 1564</th>\n",
       "      <th>Feature 1565</th>\n",
       "      <th>Feature 1566</th>\n",
       "      <th>Feature 1567</th>\n",
       "      <th>Feature 1568</th>\n",
       "      <th>Unnamed: 1568</th>\n",
       "    </tr>\n",
       "  </thead>\n",
       "  <tbody>\n",
       "    <tr>\n",
       "      <th>0</th>\n",
       "      <td>0.0</td>\n",
       "      <td>0.0</td>\n",
       "      <td>0.0</td>\n",
       "      <td>0.0</td>\n",
       "      <td>0.0</td>\n",
       "      <td>0.0</td>\n",
       "      <td>0.0</td>\n",
       "      <td>0.0</td>\n",
       "      <td>0.0</td>\n",
       "      <td>0.0</td>\n",
       "      <td>...</td>\n",
       "      <td>-4.232597e-23</td>\n",
       "      <td>-1.371348e-23</td>\n",
       "      <td>-4.941302e-24</td>\n",
       "      <td>4.701897e-24</td>\n",
       "      <td>9.137646e-24</td>\n",
       "      <td>-5.964309e-25</td>\n",
       "      <td>-8.037856e-27</td>\n",
       "      <td>1.607571e-26</td>\n",
       "      <td>1.896144e-27</td>\n",
       "      <td>NaN</td>\n",
       "    </tr>\n",
       "    <tr>\n",
       "      <th>1</th>\n",
       "      <td>0.0</td>\n",
       "      <td>0.0</td>\n",
       "      <td>0.0</td>\n",
       "      <td>0.0</td>\n",
       "      <td>0.0</td>\n",
       "      <td>0.0</td>\n",
       "      <td>0.0</td>\n",
       "      <td>0.0</td>\n",
       "      <td>0.0</td>\n",
       "      <td>0.0</td>\n",
       "      <td>...</td>\n",
       "      <td>-3.072854e-20</td>\n",
       "      <td>1.208471e-20</td>\n",
       "      <td>8.119634e-22</td>\n",
       "      <td>-4.124326e-21</td>\n",
       "      <td>-2.351743e-22</td>\n",
       "      <td>-1.139683e-23</td>\n",
       "      <td>-1.730485e-24</td>\n",
       "      <td>-1.088523e-24</td>\n",
       "      <td>-1.192788e-25</td>\n",
       "      <td>NaN</td>\n",
       "    </tr>\n",
       "    <tr>\n",
       "      <th>2</th>\n",
       "      <td>0.0</td>\n",
       "      <td>0.0</td>\n",
       "      <td>0.0</td>\n",
       "      <td>0.0</td>\n",
       "      <td>0.0</td>\n",
       "      <td>0.0</td>\n",
       "      <td>0.0</td>\n",
       "      <td>0.0</td>\n",
       "      <td>0.0</td>\n",
       "      <td>0.0</td>\n",
       "      <td>...</td>\n",
       "      <td>1.010960e-17</td>\n",
       "      <td>1.299321e-20</td>\n",
       "      <td>1.007092e-20</td>\n",
       "      <td>-1.007821e-20</td>\n",
       "      <td>2.289849e-21</td>\n",
       "      <td>-8.811264e-22</td>\n",
       "      <td>2.288049e-22</td>\n",
       "      <td>-6.056319e-23</td>\n",
       "      <td>-1.302198e-23</td>\n",
       "      <td>NaN</td>\n",
       "    </tr>\n",
       "    <tr>\n",
       "      <th>3</th>\n",
       "      <td>0.0</td>\n",
       "      <td>0.0</td>\n",
       "      <td>0.0</td>\n",
       "      <td>0.0</td>\n",
       "      <td>0.0</td>\n",
       "      <td>0.0</td>\n",
       "      <td>0.0</td>\n",
       "      <td>0.0</td>\n",
       "      <td>0.0</td>\n",
       "      <td>0.0</td>\n",
       "      <td>...</td>\n",
       "      <td>1.262406e-22</td>\n",
       "      <td>-1.204514e-23</td>\n",
       "      <td>-9.310054e-24</td>\n",
       "      <td>-1.898251e-24</td>\n",
       "      <td>-1.192600e-25</td>\n",
       "      <td>-2.870280e-26</td>\n",
       "      <td>-2.612264e-27</td>\n",
       "      <td>-7.700169e-27</td>\n",
       "      <td>-3.745563e-27</td>\n",
       "      <td>NaN</td>\n",
       "    </tr>\n",
       "    <tr>\n",
       "      <th>4</th>\n",
       "      <td>0.0</td>\n",
       "      <td>0.0</td>\n",
       "      <td>0.0</td>\n",
       "      <td>0.0</td>\n",
       "      <td>0.0</td>\n",
       "      <td>0.0</td>\n",
       "      <td>0.0</td>\n",
       "      <td>0.0</td>\n",
       "      <td>0.0</td>\n",
       "      <td>0.0</td>\n",
       "      <td>...</td>\n",
       "      <td>-1.613074e-21</td>\n",
       "      <td>-3.539335e-21</td>\n",
       "      <td>-6.962758e-20</td>\n",
       "      <td>1.694034e-19</td>\n",
       "      <td>-3.988890e-20</td>\n",
       "      <td>-5.779639e-22</td>\n",
       "      <td>5.424119e-21</td>\n",
       "      <td>1.102504e-22</td>\n",
       "      <td>-2.005880e-22</td>\n",
       "      <td>NaN</td>\n",
       "    </tr>\n",
       "    <tr>\n",
       "      <th>...</th>\n",
       "      <td>...</td>\n",
       "      <td>...</td>\n",
       "      <td>...</td>\n",
       "      <td>...</td>\n",
       "      <td>...</td>\n",
       "      <td>...</td>\n",
       "      <td>...</td>\n",
       "      <td>...</td>\n",
       "      <td>...</td>\n",
       "      <td>...</td>\n",
       "      <td>...</td>\n",
       "      <td>...</td>\n",
       "      <td>...</td>\n",
       "      <td>...</td>\n",
       "      <td>...</td>\n",
       "      <td>...</td>\n",
       "      <td>...</td>\n",
       "      <td>...</td>\n",
       "      <td>...</td>\n",
       "      <td>...</td>\n",
       "      <td>...</td>\n",
       "    </tr>\n",
       "    <tr>\n",
       "      <th>9995</th>\n",
       "      <td>0.0</td>\n",
       "      <td>0.0</td>\n",
       "      <td>0.0</td>\n",
       "      <td>0.0</td>\n",
       "      <td>0.0</td>\n",
       "      <td>0.0</td>\n",
       "      <td>0.0</td>\n",
       "      <td>0.0</td>\n",
       "      <td>0.0</td>\n",
       "      <td>0.0</td>\n",
       "      <td>...</td>\n",
       "      <td>2.125517e-22</td>\n",
       "      <td>-5.571208e-23</td>\n",
       "      <td>1.215935e-22</td>\n",
       "      <td>1.939962e-22</td>\n",
       "      <td>-1.638395e-22</td>\n",
       "      <td>-3.236651e-24</td>\n",
       "      <td>4.809522e-25</td>\n",
       "      <td>-1.347239e-25</td>\n",
       "      <td>5.794320e-26</td>\n",
       "      <td>NaN</td>\n",
       "    </tr>\n",
       "    <tr>\n",
       "      <th>9996</th>\n",
       "      <td>0.0</td>\n",
       "      <td>0.0</td>\n",
       "      <td>0.0</td>\n",
       "      <td>0.0</td>\n",
       "      <td>0.0</td>\n",
       "      <td>0.0</td>\n",
       "      <td>0.0</td>\n",
       "      <td>0.0</td>\n",
       "      <td>0.0</td>\n",
       "      <td>0.0</td>\n",
       "      <td>...</td>\n",
       "      <td>6.099703e-21</td>\n",
       "      <td>-8.780294e-22</td>\n",
       "      <td>-6.306931e-22</td>\n",
       "      <td>-1.059037e-21</td>\n",
       "      <td>6.598977e-23</td>\n",
       "      <td>5.641922e-23</td>\n",
       "      <td>1.521738e-23</td>\n",
       "      <td>5.845244e-25</td>\n",
       "      <td>2.289112e-25</td>\n",
       "      <td>NaN</td>\n",
       "    </tr>\n",
       "    <tr>\n",
       "      <th>9997</th>\n",
       "      <td>0.0</td>\n",
       "      <td>0.0</td>\n",
       "      <td>0.0</td>\n",
       "      <td>0.0</td>\n",
       "      <td>0.0</td>\n",
       "      <td>0.0</td>\n",
       "      <td>0.0</td>\n",
       "      <td>0.0</td>\n",
       "      <td>0.0</td>\n",
       "      <td>0.0</td>\n",
       "      <td>...</td>\n",
       "      <td>-1.969505e-20</td>\n",
       "      <td>-1.698103e-22</td>\n",
       "      <td>2.043203e-22</td>\n",
       "      <td>5.397814e-23</td>\n",
       "      <td>-3.642104e-23</td>\n",
       "      <td>-5.222338e-23</td>\n",
       "      <td>-8.629898e-24</td>\n",
       "      <td>1.129773e-24</td>\n",
       "      <td>-2.509890e-26</td>\n",
       "      <td>NaN</td>\n",
       "    </tr>\n",
       "    <tr>\n",
       "      <th>9998</th>\n",
       "      <td>0.0</td>\n",
       "      <td>0.0</td>\n",
       "      <td>0.0</td>\n",
       "      <td>0.0</td>\n",
       "      <td>0.0</td>\n",
       "      <td>0.0</td>\n",
       "      <td>0.0</td>\n",
       "      <td>0.0</td>\n",
       "      <td>0.0</td>\n",
       "      <td>0.0</td>\n",
       "      <td>...</td>\n",
       "      <td>-5.036675e-21</td>\n",
       "      <td>2.582385e-22</td>\n",
       "      <td>1.224506e-22</td>\n",
       "      <td>3.189655e-23</td>\n",
       "      <td>-7.812957e-24</td>\n",
       "      <td>-2.556415e-24</td>\n",
       "      <td>2.959303e-25</td>\n",
       "      <td>1.060729e-25</td>\n",
       "      <td>1.069585e-25</td>\n",
       "      <td>NaN</td>\n",
       "    </tr>\n",
       "    <tr>\n",
       "      <th>9999</th>\n",
       "      <td>0.0</td>\n",
       "      <td>0.0</td>\n",
       "      <td>0.0</td>\n",
       "      <td>0.0</td>\n",
       "      <td>0.0</td>\n",
       "      <td>0.0</td>\n",
       "      <td>0.0</td>\n",
       "      <td>0.0</td>\n",
       "      <td>0.0</td>\n",
       "      <td>0.0</td>\n",
       "      <td>...</td>\n",
       "      <td>5.533117e-21</td>\n",
       "      <td>-7.200016e-22</td>\n",
       "      <td>1.472278e-22</td>\n",
       "      <td>-1.492252e-23</td>\n",
       "      <td>-9.910375e-24</td>\n",
       "      <td>-9.901138e-24</td>\n",
       "      <td>-2.287262e-24</td>\n",
       "      <td>-9.313975e-25</td>\n",
       "      <td>-4.494966e-25</td>\n",
       "      <td>NaN</td>\n",
       "    </tr>\n",
       "  </tbody>\n",
       "</table>\n",
       "<p>10000 rows × 1569 columns</p>\n",
       "</div>"
      ],
      "text/plain": [
       "      Feature 1  Feature 2  Feature 3  Feature 4  Feature 5  Feature 6  \\\n",
       "0           0.0        0.0        0.0        0.0        0.0        0.0   \n",
       "1           0.0        0.0        0.0        0.0        0.0        0.0   \n",
       "2           0.0        0.0        0.0        0.0        0.0        0.0   \n",
       "3           0.0        0.0        0.0        0.0        0.0        0.0   \n",
       "4           0.0        0.0        0.0        0.0        0.0        0.0   \n",
       "...         ...        ...        ...        ...        ...        ...   \n",
       "9995        0.0        0.0        0.0        0.0        0.0        0.0   \n",
       "9996        0.0        0.0        0.0        0.0        0.0        0.0   \n",
       "9997        0.0        0.0        0.0        0.0        0.0        0.0   \n",
       "9998        0.0        0.0        0.0        0.0        0.0        0.0   \n",
       "9999        0.0        0.0        0.0        0.0        0.0        0.0   \n",
       "\n",
       "      Feature 7  Feature 8  Feature 9  Feature 10  ...  Feature 1560  \\\n",
       "0           0.0        0.0        0.0         0.0  ... -4.232597e-23   \n",
       "1           0.0        0.0        0.0         0.0  ... -3.072854e-20   \n",
       "2           0.0        0.0        0.0         0.0  ...  1.010960e-17   \n",
       "3           0.0        0.0        0.0         0.0  ...  1.262406e-22   \n",
       "4           0.0        0.0        0.0         0.0  ... -1.613074e-21   \n",
       "...         ...        ...        ...         ...  ...           ...   \n",
       "9995        0.0        0.0        0.0         0.0  ...  2.125517e-22   \n",
       "9996        0.0        0.0        0.0         0.0  ...  6.099703e-21   \n",
       "9997        0.0        0.0        0.0         0.0  ... -1.969505e-20   \n",
       "9998        0.0        0.0        0.0         0.0  ... -5.036675e-21   \n",
       "9999        0.0        0.0        0.0         0.0  ...  5.533117e-21   \n",
       "\n",
       "      Feature 1561  Feature 1562  Feature 1563  Feature 1564  Feature 1565  \\\n",
       "0    -1.371348e-23 -4.941302e-24  4.701897e-24  9.137646e-24 -5.964309e-25   \n",
       "1     1.208471e-20  8.119634e-22 -4.124326e-21 -2.351743e-22 -1.139683e-23   \n",
       "2     1.299321e-20  1.007092e-20 -1.007821e-20  2.289849e-21 -8.811264e-22   \n",
       "3    -1.204514e-23 -9.310054e-24 -1.898251e-24 -1.192600e-25 -2.870280e-26   \n",
       "4    -3.539335e-21 -6.962758e-20  1.694034e-19 -3.988890e-20 -5.779639e-22   \n",
       "...            ...           ...           ...           ...           ...   \n",
       "9995 -5.571208e-23  1.215935e-22  1.939962e-22 -1.638395e-22 -3.236651e-24   \n",
       "9996 -8.780294e-22 -6.306931e-22 -1.059037e-21  6.598977e-23  5.641922e-23   \n",
       "9997 -1.698103e-22  2.043203e-22  5.397814e-23 -3.642104e-23 -5.222338e-23   \n",
       "9998  2.582385e-22  1.224506e-22  3.189655e-23 -7.812957e-24 -2.556415e-24   \n",
       "9999 -7.200016e-22  1.472278e-22 -1.492252e-23 -9.910375e-24 -9.901138e-24   \n",
       "\n",
       "      Feature 1566  Feature 1567  Feature 1568  Unnamed: 1568  \n",
       "0    -8.037856e-27  1.607571e-26  1.896144e-27            NaN  \n",
       "1    -1.730485e-24 -1.088523e-24 -1.192788e-25            NaN  \n",
       "2     2.288049e-22 -6.056319e-23 -1.302198e-23            NaN  \n",
       "3    -2.612264e-27 -7.700169e-27 -3.745563e-27            NaN  \n",
       "4     5.424119e-21  1.102504e-22 -2.005880e-22            NaN  \n",
       "...            ...           ...           ...            ...  \n",
       "9995  4.809522e-25 -1.347239e-25  5.794320e-26            NaN  \n",
       "9996  1.521738e-23  5.845244e-25  2.289112e-25            NaN  \n",
       "9997 -8.629898e-24  1.129773e-24 -2.509890e-26            NaN  \n",
       "9998  2.959303e-25  1.060729e-25  1.069585e-25            NaN  \n",
       "9999 -2.287262e-24 -9.313975e-25 -4.494966e-25            NaN  \n",
       "\n",
       "[10000 rows x 1569 columns]"
      ]
     },
     "execution_count": 5,
     "metadata": {},
     "output_type": "execute_result"
    }
   ],
   "source": [
    "# Test Data\n",
    "test = pd.read_csv('data/test.csv')\n",
    "test"
   ]
  },
  {
   "cell_type": "code",
   "execution_count": 6,
   "metadata": {},
   "outputs": [
    {
     "data": {
      "text/html": [
       "<div>\n",
       "<style scoped>\n",
       "    .dataframe tbody tr th:only-of-type {\n",
       "        vertical-align: middle;\n",
       "    }\n",
       "\n",
       "    .dataframe tbody tr th {\n",
       "        vertical-align: top;\n",
       "    }\n",
       "\n",
       "    .dataframe thead th {\n",
       "        text-align: right;\n",
       "    }\n",
       "</style>\n",
       "<table border=\"1\" class=\"dataframe\">\n",
       "  <thead>\n",
       "    <tr style=\"text-align: right;\">\n",
       "      <th></th>\n",
       "      <th>Index</th>\n",
       "      <th>Class</th>\n",
       "    </tr>\n",
       "  </thead>\n",
       "  <tbody>\n",
       "    <tr>\n",
       "      <th>0</th>\n",
       "      <td>0</td>\n",
       "      <td>5</td>\n",
       "    </tr>\n",
       "    <tr>\n",
       "      <th>1</th>\n",
       "      <td>1</td>\n",
       "      <td>4</td>\n",
       "    </tr>\n",
       "    <tr>\n",
       "      <th>2</th>\n",
       "      <td>2</td>\n",
       "      <td>5</td>\n",
       "    </tr>\n",
       "    <tr>\n",
       "      <th>3</th>\n",
       "      <td>3</td>\n",
       "      <td>4</td>\n",
       "    </tr>\n",
       "    <tr>\n",
       "      <th>4</th>\n",
       "      <td>4</td>\n",
       "      <td>4</td>\n",
       "    </tr>\n",
       "    <tr>\n",
       "      <th>...</th>\n",
       "      <td>...</td>\n",
       "      <td>...</td>\n",
       "    </tr>\n",
       "    <tr>\n",
       "      <th>49995</th>\n",
       "      <td>49995</td>\n",
       "      <td>9</td>\n",
       "    </tr>\n",
       "    <tr>\n",
       "      <th>49996</th>\n",
       "      <td>49996</td>\n",
       "      <td>14</td>\n",
       "    </tr>\n",
       "    <tr>\n",
       "      <th>49997</th>\n",
       "      <td>49997</td>\n",
       "      <td>1</td>\n",
       "    </tr>\n",
       "    <tr>\n",
       "      <th>49998</th>\n",
       "      <td>49998</td>\n",
       "      <td>7</td>\n",
       "    </tr>\n",
       "    <tr>\n",
       "      <th>49999</th>\n",
       "      <td>49999</td>\n",
       "      <td>9</td>\n",
       "    </tr>\n",
       "  </tbody>\n",
       "</table>\n",
       "<p>50000 rows × 2 columns</p>\n",
       "</div>"
      ],
      "text/plain": [
       "       Index  Class\n",
       "0          0      5\n",
       "1          1      4\n",
       "2          2      5\n",
       "3          3      4\n",
       "4          4      4\n",
       "...      ...    ...\n",
       "49995  49995      9\n",
       "49996  49996     14\n",
       "49997  49997      1\n",
       "49998  49998      7\n",
       "49999  49999      9\n",
       "\n",
       "[50000 rows x 2 columns]"
      ]
     },
     "execution_count": 6,
     "metadata": {},
     "output_type": "execute_result"
    }
   ],
   "source": [
    "# Train data labels\n",
    "train_result=pd.read_csv('data/train_result.csv')\n",
    "train_result"
   ]
  },
  {
   "cell_type": "code",
   "execution_count": 7,
   "metadata": {},
   "outputs": [
    {
     "data": {
      "text/html": [
       "<div>\n",
       "<style scoped>\n",
       "    .dataframe tbody tr th:only-of-type {\n",
       "        vertical-align: middle;\n",
       "    }\n",
       "\n",
       "    .dataframe tbody tr th {\n",
       "        vertical-align: top;\n",
       "    }\n",
       "\n",
       "    .dataframe thead th {\n",
       "        text-align: right;\n",
       "    }\n",
       "</style>\n",
       "<table border=\"1\" class=\"dataframe\">\n",
       "  <thead>\n",
       "    <tr style=\"text-align: right;\">\n",
       "      <th></th>\n",
       "      <th>Feature 1</th>\n",
       "      <th>Feature 2</th>\n",
       "      <th>Feature 3</th>\n",
       "      <th>Feature 4</th>\n",
       "      <th>Feature 5</th>\n",
       "      <th>Feature 6</th>\n",
       "      <th>Feature 7</th>\n",
       "      <th>Feature 8</th>\n",
       "      <th>Feature 9</th>\n",
       "      <th>Feature 10</th>\n",
       "      <th>...</th>\n",
       "      <th>Feature 1559</th>\n",
       "      <th>Feature 1560</th>\n",
       "      <th>Feature 1561</th>\n",
       "      <th>Feature 1562</th>\n",
       "      <th>Feature 1563</th>\n",
       "      <th>Feature 1564</th>\n",
       "      <th>Feature 1565</th>\n",
       "      <th>Feature 1566</th>\n",
       "      <th>Feature 1567</th>\n",
       "      <th>Feature 1568</th>\n",
       "    </tr>\n",
       "  </thead>\n",
       "  <tbody>\n",
       "    <tr>\n",
       "      <th>0</th>\n",
       "      <td>0.0</td>\n",
       "      <td>0.0</td>\n",
       "      <td>0.0</td>\n",
       "      <td>0.0</td>\n",
       "      <td>0.0</td>\n",
       "      <td>0.0</td>\n",
       "      <td>0.0</td>\n",
       "      <td>0.0</td>\n",
       "      <td>0.0</td>\n",
       "      <td>0.0</td>\n",
       "      <td>...</td>\n",
       "      <td>-1.281934e-19</td>\n",
       "      <td>3.854928e-19</td>\n",
       "      <td>-1.329011e-20</td>\n",
       "      <td>4.204335e-21</td>\n",
       "      <td>4.428740e-21</td>\n",
       "      <td>4.461340e-23</td>\n",
       "      <td>2.376798e-24</td>\n",
       "      <td>-7.807106e-24</td>\n",
       "      <td>2.379322e-24</td>\n",
       "      <td>-5.582096e-26</td>\n",
       "    </tr>\n",
       "    <tr>\n",
       "      <th>1</th>\n",
       "      <td>0.0</td>\n",
       "      <td>0.0</td>\n",
       "      <td>0.0</td>\n",
       "      <td>0.0</td>\n",
       "      <td>0.0</td>\n",
       "      <td>0.0</td>\n",
       "      <td>0.0</td>\n",
       "      <td>0.0</td>\n",
       "      <td>0.0</td>\n",
       "      <td>0.0</td>\n",
       "      <td>...</td>\n",
       "      <td>-4.714815e-19</td>\n",
       "      <td>-7.118652e-20</td>\n",
       "      <td>4.062297e-21</td>\n",
       "      <td>-7.743107e-21</td>\n",
       "      <td>8.638654e-22</td>\n",
       "      <td>-1.006311e-21</td>\n",
       "      <td>-2.267525e-22</td>\n",
       "      <td>-5.867730e-23</td>\n",
       "      <td>4.858047e-24</td>\n",
       "      <td>-4.595498e-25</td>\n",
       "    </tr>\n",
       "    <tr>\n",
       "      <th>2</th>\n",
       "      <td>0.0</td>\n",
       "      <td>0.0</td>\n",
       "      <td>0.0</td>\n",
       "      <td>0.0</td>\n",
       "      <td>0.0</td>\n",
       "      <td>0.0</td>\n",
       "      <td>0.0</td>\n",
       "      <td>0.0</td>\n",
       "      <td>0.0</td>\n",
       "      <td>0.0</td>\n",
       "      <td>...</td>\n",
       "      <td>-3.968480e-20</td>\n",
       "      <td>-4.619224e-20</td>\n",
       "      <td>-3.590984e-20</td>\n",
       "      <td>-2.717642e-20</td>\n",
       "      <td>1.923565e-20</td>\n",
       "      <td>-2.244442e-21</td>\n",
       "      <td>-4.244237e-24</td>\n",
       "      <td>-3.599564e-23</td>\n",
       "      <td>7.471194e-24</td>\n",
       "      <td>-3.815300e-24</td>\n",
       "    </tr>\n",
       "    <tr>\n",
       "      <th>3</th>\n",
       "      <td>0.0</td>\n",
       "      <td>0.0</td>\n",
       "      <td>0.0</td>\n",
       "      <td>0.0</td>\n",
       "      <td>0.0</td>\n",
       "      <td>0.0</td>\n",
       "      <td>0.0</td>\n",
       "      <td>0.0</td>\n",
       "      <td>0.0</td>\n",
       "      <td>0.0</td>\n",
       "      <td>...</td>\n",
       "      <td>4.256463e-20</td>\n",
       "      <td>-5.346105e-19</td>\n",
       "      <td>-6.278001e-19</td>\n",
       "      <td>-5.786255e-19</td>\n",
       "      <td>2.573141e-19</td>\n",
       "      <td>2.385063e-19</td>\n",
       "      <td>6.655487e-20</td>\n",
       "      <td>2.834975e-20</td>\n",
       "      <td>3.356577e-21</td>\n",
       "      <td>1.698628e-21</td>\n",
       "    </tr>\n",
       "    <tr>\n",
       "      <th>4</th>\n",
       "      <td>0.0</td>\n",
       "      <td>0.0</td>\n",
       "      <td>0.0</td>\n",
       "      <td>0.0</td>\n",
       "      <td>0.0</td>\n",
       "      <td>0.0</td>\n",
       "      <td>0.0</td>\n",
       "      <td>0.0</td>\n",
       "      <td>0.0</td>\n",
       "      <td>0.0</td>\n",
       "      <td>...</td>\n",
       "      <td>-9.446271e-19</td>\n",
       "      <td>5.494150e-20</td>\n",
       "      <td>-1.187973e-20</td>\n",
       "      <td>-1.450941e-21</td>\n",
       "      <td>8.954877e-22</td>\n",
       "      <td>-2.645088e-22</td>\n",
       "      <td>1.365356e-23</td>\n",
       "      <td>8.062470e-24</td>\n",
       "      <td>-1.235689e-24</td>\n",
       "      <td>1.890073e-25</td>\n",
       "    </tr>\n",
       "    <tr>\n",
       "      <th>...</th>\n",
       "      <td>...</td>\n",
       "      <td>...</td>\n",
       "      <td>...</td>\n",
       "      <td>...</td>\n",
       "      <td>...</td>\n",
       "      <td>...</td>\n",
       "      <td>...</td>\n",
       "      <td>...</td>\n",
       "      <td>...</td>\n",
       "      <td>...</td>\n",
       "      <td>...</td>\n",
       "      <td>...</td>\n",
       "      <td>...</td>\n",
       "      <td>...</td>\n",
       "      <td>...</td>\n",
       "      <td>...</td>\n",
       "      <td>...</td>\n",
       "      <td>...</td>\n",
       "      <td>...</td>\n",
       "      <td>...</td>\n",
       "      <td>...</td>\n",
       "    </tr>\n",
       "    <tr>\n",
       "      <th>49995</th>\n",
       "      <td>0.0</td>\n",
       "      <td>0.0</td>\n",
       "      <td>0.0</td>\n",
       "      <td>0.0</td>\n",
       "      <td>0.0</td>\n",
       "      <td>0.0</td>\n",
       "      <td>0.0</td>\n",
       "      <td>0.0</td>\n",
       "      <td>0.0</td>\n",
       "      <td>0.0</td>\n",
       "      <td>...</td>\n",
       "      <td>-2.806037e-19</td>\n",
       "      <td>-9.956413e-22</td>\n",
       "      <td>7.012638e-21</td>\n",
       "      <td>-1.749799e-21</td>\n",
       "      <td>-5.296019e-22</td>\n",
       "      <td>5.324962e-23</td>\n",
       "      <td>-7.651382e-24</td>\n",
       "      <td>-1.189074e-23</td>\n",
       "      <td>-3.929069e-24</td>\n",
       "      <td>1.550829e-24</td>\n",
       "    </tr>\n",
       "    <tr>\n",
       "      <th>49996</th>\n",
       "      <td>0.0</td>\n",
       "      <td>0.0</td>\n",
       "      <td>0.0</td>\n",
       "      <td>0.0</td>\n",
       "      <td>0.0</td>\n",
       "      <td>0.0</td>\n",
       "      <td>0.0</td>\n",
       "      <td>0.0</td>\n",
       "      <td>0.0</td>\n",
       "      <td>0.0</td>\n",
       "      <td>...</td>\n",
       "      <td>1.120559e-21</td>\n",
       "      <td>-2.386547e-22</td>\n",
       "      <td>3.369363e-23</td>\n",
       "      <td>1.459011e-23</td>\n",
       "      <td>5.123315e-25</td>\n",
       "      <td>-5.553792e-25</td>\n",
       "      <td>-1.656932e-25</td>\n",
       "      <td>-4.579053e-26</td>\n",
       "      <td>5.280697e-26</td>\n",
       "      <td>1.550841e-26</td>\n",
       "    </tr>\n",
       "    <tr>\n",
       "      <th>49997</th>\n",
       "      <td>0.0</td>\n",
       "      <td>0.0</td>\n",
       "      <td>0.0</td>\n",
       "      <td>0.0</td>\n",
       "      <td>0.0</td>\n",
       "      <td>0.0</td>\n",
       "      <td>0.0</td>\n",
       "      <td>0.0</td>\n",
       "      <td>0.0</td>\n",
       "      <td>0.0</td>\n",
       "      <td>...</td>\n",
       "      <td>2.683112e-18</td>\n",
       "      <td>-1.566546e-20</td>\n",
       "      <td>6.858092e-21</td>\n",
       "      <td>1.256228e-21</td>\n",
       "      <td>-3.157088e-22</td>\n",
       "      <td>1.984213e-23</td>\n",
       "      <td>1.134711e-23</td>\n",
       "      <td>-3.192012e-24</td>\n",
       "      <td>1.801697e-25</td>\n",
       "      <td>-1.020857e-26</td>\n",
       "    </tr>\n",
       "    <tr>\n",
       "      <th>49998</th>\n",
       "      <td>0.0</td>\n",
       "      <td>0.0</td>\n",
       "      <td>0.0</td>\n",
       "      <td>0.0</td>\n",
       "      <td>0.0</td>\n",
       "      <td>0.0</td>\n",
       "      <td>0.0</td>\n",
       "      <td>0.0</td>\n",
       "      <td>0.0</td>\n",
       "      <td>0.0</td>\n",
       "      <td>...</td>\n",
       "      <td>4.349202e-20</td>\n",
       "      <td>-1.839305e-21</td>\n",
       "      <td>3.174579e-20</td>\n",
       "      <td>7.510705e-21</td>\n",
       "      <td>-1.584091e-21</td>\n",
       "      <td>9.770302e-23</td>\n",
       "      <td>1.247588e-22</td>\n",
       "      <td>5.449431e-24</td>\n",
       "      <td>2.336028e-24</td>\n",
       "      <td>2.577251e-24</td>\n",
       "    </tr>\n",
       "    <tr>\n",
       "      <th>49999</th>\n",
       "      <td>0.0</td>\n",
       "      <td>0.0</td>\n",
       "      <td>0.0</td>\n",
       "      <td>0.0</td>\n",
       "      <td>0.0</td>\n",
       "      <td>0.0</td>\n",
       "      <td>0.0</td>\n",
       "      <td>0.0</td>\n",
       "      <td>0.0</td>\n",
       "      <td>0.0</td>\n",
       "      <td>...</td>\n",
       "      <td>8.295327e-17</td>\n",
       "      <td>9.899082e-17</td>\n",
       "      <td>8.549260e-17</td>\n",
       "      <td>1.099950e-18</td>\n",
       "      <td>-8.754949e-19</td>\n",
       "      <td>1.678472e-20</td>\n",
       "      <td>-1.834816e-20</td>\n",
       "      <td>-1.115471e-20</td>\n",
       "      <td>-4.795634e-21</td>\n",
       "      <td>-1.559397e-22</td>\n",
       "    </tr>\n",
       "  </tbody>\n",
       "</table>\n",
       "<p>50000 rows × 1568 columns</p>\n",
       "</div>"
      ],
      "text/plain": [
       "       Feature 1  Feature 2  Feature 3  Feature 4  Feature 5  Feature 6  \\\n",
       "0            0.0        0.0        0.0        0.0        0.0        0.0   \n",
       "1            0.0        0.0        0.0        0.0        0.0        0.0   \n",
       "2            0.0        0.0        0.0        0.0        0.0        0.0   \n",
       "3            0.0        0.0        0.0        0.0        0.0        0.0   \n",
       "4            0.0        0.0        0.0        0.0        0.0        0.0   \n",
       "...          ...        ...        ...        ...        ...        ...   \n",
       "49995        0.0        0.0        0.0        0.0        0.0        0.0   \n",
       "49996        0.0        0.0        0.0        0.0        0.0        0.0   \n",
       "49997        0.0        0.0        0.0        0.0        0.0        0.0   \n",
       "49998        0.0        0.0        0.0        0.0        0.0        0.0   \n",
       "49999        0.0        0.0        0.0        0.0        0.0        0.0   \n",
       "\n",
       "       Feature 7  Feature 8  Feature 9  Feature 10  ...  Feature 1559  \\\n",
       "0            0.0        0.0        0.0         0.0  ... -1.281934e-19   \n",
       "1            0.0        0.0        0.0         0.0  ... -4.714815e-19   \n",
       "2            0.0        0.0        0.0         0.0  ... -3.968480e-20   \n",
       "3            0.0        0.0        0.0         0.0  ...  4.256463e-20   \n",
       "4            0.0        0.0        0.0         0.0  ... -9.446271e-19   \n",
       "...          ...        ...        ...         ...  ...           ...   \n",
       "49995        0.0        0.0        0.0         0.0  ... -2.806037e-19   \n",
       "49996        0.0        0.0        0.0         0.0  ...  1.120559e-21   \n",
       "49997        0.0        0.0        0.0         0.0  ...  2.683112e-18   \n",
       "49998        0.0        0.0        0.0         0.0  ...  4.349202e-20   \n",
       "49999        0.0        0.0        0.0         0.0  ...  8.295327e-17   \n",
       "\n",
       "       Feature 1560  Feature 1561  Feature 1562  Feature 1563  Feature 1564  \\\n",
       "0      3.854928e-19 -1.329011e-20  4.204335e-21  4.428740e-21  4.461340e-23   \n",
       "1     -7.118652e-20  4.062297e-21 -7.743107e-21  8.638654e-22 -1.006311e-21   \n",
       "2     -4.619224e-20 -3.590984e-20 -2.717642e-20  1.923565e-20 -2.244442e-21   \n",
       "3     -5.346105e-19 -6.278001e-19 -5.786255e-19  2.573141e-19  2.385063e-19   \n",
       "4      5.494150e-20 -1.187973e-20 -1.450941e-21  8.954877e-22 -2.645088e-22   \n",
       "...             ...           ...           ...           ...           ...   \n",
       "49995 -9.956413e-22  7.012638e-21 -1.749799e-21 -5.296019e-22  5.324962e-23   \n",
       "49996 -2.386547e-22  3.369363e-23  1.459011e-23  5.123315e-25 -5.553792e-25   \n",
       "49997 -1.566546e-20  6.858092e-21  1.256228e-21 -3.157088e-22  1.984213e-23   \n",
       "49998 -1.839305e-21  3.174579e-20  7.510705e-21 -1.584091e-21  9.770302e-23   \n",
       "49999  9.899082e-17  8.549260e-17  1.099950e-18 -8.754949e-19  1.678472e-20   \n",
       "\n",
       "       Feature 1565  Feature 1566  Feature 1567  Feature 1568  \n",
       "0      2.376798e-24 -7.807106e-24  2.379322e-24 -5.582096e-26  \n",
       "1     -2.267525e-22 -5.867730e-23  4.858047e-24 -4.595498e-25  \n",
       "2     -4.244237e-24 -3.599564e-23  7.471194e-24 -3.815300e-24  \n",
       "3      6.655487e-20  2.834975e-20  3.356577e-21  1.698628e-21  \n",
       "4      1.365356e-23  8.062470e-24 -1.235689e-24  1.890073e-25  \n",
       "...             ...           ...           ...           ...  \n",
       "49995 -7.651382e-24 -1.189074e-23 -3.929069e-24  1.550829e-24  \n",
       "49996 -1.656932e-25 -4.579053e-26  5.280697e-26  1.550841e-26  \n",
       "49997  1.134711e-23 -3.192012e-24  1.801697e-25 -1.020857e-26  \n",
       "49998  1.247588e-22  5.449431e-24  2.336028e-24  2.577251e-24  \n",
       "49999 -1.834816e-20 -1.115471e-20 -4.795634e-21 -1.559397e-22  \n",
       "\n",
       "[50000 rows x 1568 columns]"
      ]
     },
     "execution_count": 7,
     "metadata": {},
     "output_type": "execute_result"
    }
   ],
   "source": [
    "# Cleaning Data\n",
    "X = train\n",
    "X=X.loc[:, ~X.columns.str.contains('^Unnamed')]\n",
    "X"
   ]
  },
  {
   "cell_type": "code",
   "execution_count": 8,
   "metadata": {},
   "outputs": [
    {
     "data": {
      "text/plain": [
       "0         5\n",
       "1         4\n",
       "2         5\n",
       "3         4\n",
       "4         4\n",
       "         ..\n",
       "49995     9\n",
       "49996    14\n",
       "49997     1\n",
       "49998     7\n",
       "49999     9\n",
       "Name: Class, Length: 50000, dtype: int64"
      ]
     },
     "execution_count": 8,
     "metadata": {},
     "output_type": "execute_result"
    }
   ],
   "source": [
    "y=train_result['Class']\n",
    "y"
   ]
  },
  {
   "cell_type": "code",
   "execution_count": 9,
   "metadata": {},
   "outputs": [
    {
     "data": {
      "text/html": [
       "<div>\n",
       "<style scoped>\n",
       "    .dataframe tbody tr th:only-of-type {\n",
       "        vertical-align: middle;\n",
       "    }\n",
       "\n",
       "    .dataframe tbody tr th {\n",
       "        vertical-align: top;\n",
       "    }\n",
       "\n",
       "    .dataframe thead th {\n",
       "        text-align: right;\n",
       "    }\n",
       "</style>\n",
       "<table border=\"1\" class=\"dataframe\">\n",
       "  <thead>\n",
       "    <tr style=\"text-align: right;\">\n",
       "      <th></th>\n",
       "      <th>Feature 1</th>\n",
       "      <th>Feature 2</th>\n",
       "      <th>Feature 3</th>\n",
       "      <th>Feature 4</th>\n",
       "      <th>Feature 5</th>\n",
       "      <th>Feature 6</th>\n",
       "      <th>Feature 7</th>\n",
       "      <th>Feature 8</th>\n",
       "      <th>Feature 9</th>\n",
       "      <th>Feature 10</th>\n",
       "      <th>...</th>\n",
       "      <th>Feature 1559</th>\n",
       "      <th>Feature 1560</th>\n",
       "      <th>Feature 1561</th>\n",
       "      <th>Feature 1562</th>\n",
       "      <th>Feature 1563</th>\n",
       "      <th>Feature 1564</th>\n",
       "      <th>Feature 1565</th>\n",
       "      <th>Feature 1566</th>\n",
       "      <th>Feature 1567</th>\n",
       "      <th>Feature 1568</th>\n",
       "    </tr>\n",
       "  </thead>\n",
       "  <tbody>\n",
       "    <tr>\n",
       "      <th>0</th>\n",
       "      <td>0.0</td>\n",
       "      <td>0.0</td>\n",
       "      <td>0.0</td>\n",
       "      <td>0.0</td>\n",
       "      <td>0.0</td>\n",
       "      <td>0.0</td>\n",
       "      <td>0.0</td>\n",
       "      <td>0.0</td>\n",
       "      <td>0.0</td>\n",
       "      <td>0.0</td>\n",
       "      <td>...</td>\n",
       "      <td>1.955389e-23</td>\n",
       "      <td>-4.232597e-23</td>\n",
       "      <td>-1.371348e-23</td>\n",
       "      <td>-4.941302e-24</td>\n",
       "      <td>4.701897e-24</td>\n",
       "      <td>9.137646e-24</td>\n",
       "      <td>-5.964309e-25</td>\n",
       "      <td>-8.037856e-27</td>\n",
       "      <td>1.607571e-26</td>\n",
       "      <td>1.896144e-27</td>\n",
       "    </tr>\n",
       "    <tr>\n",
       "      <th>1</th>\n",
       "      <td>0.0</td>\n",
       "      <td>0.0</td>\n",
       "      <td>0.0</td>\n",
       "      <td>0.0</td>\n",
       "      <td>0.0</td>\n",
       "      <td>0.0</td>\n",
       "      <td>0.0</td>\n",
       "      <td>0.0</td>\n",
       "      <td>0.0</td>\n",
       "      <td>0.0</td>\n",
       "      <td>...</td>\n",
       "      <td>-1.713258e-20</td>\n",
       "      <td>-3.072854e-20</td>\n",
       "      <td>1.208471e-20</td>\n",
       "      <td>8.119634e-22</td>\n",
       "      <td>-4.124326e-21</td>\n",
       "      <td>-2.351743e-22</td>\n",
       "      <td>-1.139683e-23</td>\n",
       "      <td>-1.730485e-24</td>\n",
       "      <td>-1.088523e-24</td>\n",
       "      <td>-1.192788e-25</td>\n",
       "    </tr>\n",
       "    <tr>\n",
       "      <th>2</th>\n",
       "      <td>0.0</td>\n",
       "      <td>0.0</td>\n",
       "      <td>0.0</td>\n",
       "      <td>0.0</td>\n",
       "      <td>0.0</td>\n",
       "      <td>0.0</td>\n",
       "      <td>0.0</td>\n",
       "      <td>0.0</td>\n",
       "      <td>0.0</td>\n",
       "      <td>0.0</td>\n",
       "      <td>...</td>\n",
       "      <td>-7.737605e-19</td>\n",
       "      <td>1.010960e-17</td>\n",
       "      <td>1.299321e-20</td>\n",
       "      <td>1.007092e-20</td>\n",
       "      <td>-1.007821e-20</td>\n",
       "      <td>2.289849e-21</td>\n",
       "      <td>-8.811264e-22</td>\n",
       "      <td>2.288049e-22</td>\n",
       "      <td>-6.056319e-23</td>\n",
       "      <td>-1.302198e-23</td>\n",
       "    </tr>\n",
       "    <tr>\n",
       "      <th>3</th>\n",
       "      <td>0.0</td>\n",
       "      <td>0.0</td>\n",
       "      <td>0.0</td>\n",
       "      <td>0.0</td>\n",
       "      <td>0.0</td>\n",
       "      <td>0.0</td>\n",
       "      <td>0.0</td>\n",
       "      <td>0.0</td>\n",
       "      <td>0.0</td>\n",
       "      <td>0.0</td>\n",
       "      <td>...</td>\n",
       "      <td>1.688333e-22</td>\n",
       "      <td>1.262406e-22</td>\n",
       "      <td>-1.204514e-23</td>\n",
       "      <td>-9.310054e-24</td>\n",
       "      <td>-1.898251e-24</td>\n",
       "      <td>-1.192600e-25</td>\n",
       "      <td>-2.870280e-26</td>\n",
       "      <td>-2.612264e-27</td>\n",
       "      <td>-7.700169e-27</td>\n",
       "      <td>-3.745563e-27</td>\n",
       "    </tr>\n",
       "    <tr>\n",
       "      <th>4</th>\n",
       "      <td>0.0</td>\n",
       "      <td>0.0</td>\n",
       "      <td>0.0</td>\n",
       "      <td>0.0</td>\n",
       "      <td>0.0</td>\n",
       "      <td>0.0</td>\n",
       "      <td>0.0</td>\n",
       "      <td>0.0</td>\n",
       "      <td>0.0</td>\n",
       "      <td>0.0</td>\n",
       "      <td>...</td>\n",
       "      <td>-5.748979e-21</td>\n",
       "      <td>-1.613074e-21</td>\n",
       "      <td>-3.539335e-21</td>\n",
       "      <td>-6.962758e-20</td>\n",
       "      <td>1.694034e-19</td>\n",
       "      <td>-3.988890e-20</td>\n",
       "      <td>-5.779639e-22</td>\n",
       "      <td>5.424119e-21</td>\n",
       "      <td>1.102504e-22</td>\n",
       "      <td>-2.005880e-22</td>\n",
       "    </tr>\n",
       "    <tr>\n",
       "      <th>...</th>\n",
       "      <td>...</td>\n",
       "      <td>...</td>\n",
       "      <td>...</td>\n",
       "      <td>...</td>\n",
       "      <td>...</td>\n",
       "      <td>...</td>\n",
       "      <td>...</td>\n",
       "      <td>...</td>\n",
       "      <td>...</td>\n",
       "      <td>...</td>\n",
       "      <td>...</td>\n",
       "      <td>...</td>\n",
       "      <td>...</td>\n",
       "      <td>...</td>\n",
       "      <td>...</td>\n",
       "      <td>...</td>\n",
       "      <td>...</td>\n",
       "      <td>...</td>\n",
       "      <td>...</td>\n",
       "      <td>...</td>\n",
       "      <td>...</td>\n",
       "    </tr>\n",
       "    <tr>\n",
       "      <th>9995</th>\n",
       "      <td>0.0</td>\n",
       "      <td>0.0</td>\n",
       "      <td>0.0</td>\n",
       "      <td>0.0</td>\n",
       "      <td>0.0</td>\n",
       "      <td>0.0</td>\n",
       "      <td>0.0</td>\n",
       "      <td>0.0</td>\n",
       "      <td>0.0</td>\n",
       "      <td>0.0</td>\n",
       "      <td>...</td>\n",
       "      <td>2.176424e-21</td>\n",
       "      <td>2.125517e-22</td>\n",
       "      <td>-5.571208e-23</td>\n",
       "      <td>1.215935e-22</td>\n",
       "      <td>1.939962e-22</td>\n",
       "      <td>-1.638395e-22</td>\n",
       "      <td>-3.236651e-24</td>\n",
       "      <td>4.809522e-25</td>\n",
       "      <td>-1.347239e-25</td>\n",
       "      <td>5.794320e-26</td>\n",
       "    </tr>\n",
       "    <tr>\n",
       "      <th>9996</th>\n",
       "      <td>0.0</td>\n",
       "      <td>0.0</td>\n",
       "      <td>0.0</td>\n",
       "      <td>0.0</td>\n",
       "      <td>0.0</td>\n",
       "      <td>0.0</td>\n",
       "      <td>0.0</td>\n",
       "      <td>0.0</td>\n",
       "      <td>0.0</td>\n",
       "      <td>0.0</td>\n",
       "      <td>...</td>\n",
       "      <td>8.372621e-20</td>\n",
       "      <td>6.099703e-21</td>\n",
       "      <td>-8.780294e-22</td>\n",
       "      <td>-6.306931e-22</td>\n",
       "      <td>-1.059037e-21</td>\n",
       "      <td>6.598977e-23</td>\n",
       "      <td>5.641922e-23</td>\n",
       "      <td>1.521738e-23</td>\n",
       "      <td>5.845244e-25</td>\n",
       "      <td>2.289112e-25</td>\n",
       "    </tr>\n",
       "    <tr>\n",
       "      <th>9997</th>\n",
       "      <td>0.0</td>\n",
       "      <td>0.0</td>\n",
       "      <td>0.0</td>\n",
       "      <td>0.0</td>\n",
       "      <td>0.0</td>\n",
       "      <td>0.0</td>\n",
       "      <td>0.0</td>\n",
       "      <td>0.0</td>\n",
       "      <td>0.0</td>\n",
       "      <td>0.0</td>\n",
       "      <td>...</td>\n",
       "      <td>1.796364e-20</td>\n",
       "      <td>-1.969505e-20</td>\n",
       "      <td>-1.698103e-22</td>\n",
       "      <td>2.043203e-22</td>\n",
       "      <td>5.397814e-23</td>\n",
       "      <td>-3.642104e-23</td>\n",
       "      <td>-5.222338e-23</td>\n",
       "      <td>-8.629898e-24</td>\n",
       "      <td>1.129773e-24</td>\n",
       "      <td>-2.509890e-26</td>\n",
       "    </tr>\n",
       "    <tr>\n",
       "      <th>9998</th>\n",
       "      <td>0.0</td>\n",
       "      <td>0.0</td>\n",
       "      <td>0.0</td>\n",
       "      <td>0.0</td>\n",
       "      <td>0.0</td>\n",
       "      <td>0.0</td>\n",
       "      <td>0.0</td>\n",
       "      <td>0.0</td>\n",
       "      <td>0.0</td>\n",
       "      <td>0.0</td>\n",
       "      <td>...</td>\n",
       "      <td>1.536667e-20</td>\n",
       "      <td>-5.036675e-21</td>\n",
       "      <td>2.582385e-22</td>\n",
       "      <td>1.224506e-22</td>\n",
       "      <td>3.189655e-23</td>\n",
       "      <td>-7.812957e-24</td>\n",
       "      <td>-2.556415e-24</td>\n",
       "      <td>2.959303e-25</td>\n",
       "      <td>1.060729e-25</td>\n",
       "      <td>1.069585e-25</td>\n",
       "    </tr>\n",
       "    <tr>\n",
       "      <th>9999</th>\n",
       "      <td>0.0</td>\n",
       "      <td>0.0</td>\n",
       "      <td>0.0</td>\n",
       "      <td>0.0</td>\n",
       "      <td>0.0</td>\n",
       "      <td>0.0</td>\n",
       "      <td>0.0</td>\n",
       "      <td>0.0</td>\n",
       "      <td>0.0</td>\n",
       "      <td>0.0</td>\n",
       "      <td>...</td>\n",
       "      <td>-3.705075e-20</td>\n",
       "      <td>5.533117e-21</td>\n",
       "      <td>-7.200016e-22</td>\n",
       "      <td>1.472278e-22</td>\n",
       "      <td>-1.492252e-23</td>\n",
       "      <td>-9.910375e-24</td>\n",
       "      <td>-9.901138e-24</td>\n",
       "      <td>-2.287262e-24</td>\n",
       "      <td>-9.313975e-25</td>\n",
       "      <td>-4.494966e-25</td>\n",
       "    </tr>\n",
       "  </tbody>\n",
       "</table>\n",
       "<p>10000 rows × 1568 columns</p>\n",
       "</div>"
      ],
      "text/plain": [
       "      Feature 1  Feature 2  Feature 3  Feature 4  Feature 5  Feature 6  \\\n",
       "0           0.0        0.0        0.0        0.0        0.0        0.0   \n",
       "1           0.0        0.0        0.0        0.0        0.0        0.0   \n",
       "2           0.0        0.0        0.0        0.0        0.0        0.0   \n",
       "3           0.0        0.0        0.0        0.0        0.0        0.0   \n",
       "4           0.0        0.0        0.0        0.0        0.0        0.0   \n",
       "...         ...        ...        ...        ...        ...        ...   \n",
       "9995        0.0        0.0        0.0        0.0        0.0        0.0   \n",
       "9996        0.0        0.0        0.0        0.0        0.0        0.0   \n",
       "9997        0.0        0.0        0.0        0.0        0.0        0.0   \n",
       "9998        0.0        0.0        0.0        0.0        0.0        0.0   \n",
       "9999        0.0        0.0        0.0        0.0        0.0        0.0   \n",
       "\n",
       "      Feature 7  Feature 8  Feature 9  Feature 10  ...  Feature 1559  \\\n",
       "0           0.0        0.0        0.0         0.0  ...  1.955389e-23   \n",
       "1           0.0        0.0        0.0         0.0  ... -1.713258e-20   \n",
       "2           0.0        0.0        0.0         0.0  ... -7.737605e-19   \n",
       "3           0.0        0.0        0.0         0.0  ...  1.688333e-22   \n",
       "4           0.0        0.0        0.0         0.0  ... -5.748979e-21   \n",
       "...         ...        ...        ...         ...  ...           ...   \n",
       "9995        0.0        0.0        0.0         0.0  ...  2.176424e-21   \n",
       "9996        0.0        0.0        0.0         0.0  ...  8.372621e-20   \n",
       "9997        0.0        0.0        0.0         0.0  ...  1.796364e-20   \n",
       "9998        0.0        0.0        0.0         0.0  ...  1.536667e-20   \n",
       "9999        0.0        0.0        0.0         0.0  ... -3.705075e-20   \n",
       "\n",
       "      Feature 1560  Feature 1561  Feature 1562  Feature 1563  Feature 1564  \\\n",
       "0    -4.232597e-23 -1.371348e-23 -4.941302e-24  4.701897e-24  9.137646e-24   \n",
       "1    -3.072854e-20  1.208471e-20  8.119634e-22 -4.124326e-21 -2.351743e-22   \n",
       "2     1.010960e-17  1.299321e-20  1.007092e-20 -1.007821e-20  2.289849e-21   \n",
       "3     1.262406e-22 -1.204514e-23 -9.310054e-24 -1.898251e-24 -1.192600e-25   \n",
       "4    -1.613074e-21 -3.539335e-21 -6.962758e-20  1.694034e-19 -3.988890e-20   \n",
       "...            ...           ...           ...           ...           ...   \n",
       "9995  2.125517e-22 -5.571208e-23  1.215935e-22  1.939962e-22 -1.638395e-22   \n",
       "9996  6.099703e-21 -8.780294e-22 -6.306931e-22 -1.059037e-21  6.598977e-23   \n",
       "9997 -1.969505e-20 -1.698103e-22  2.043203e-22  5.397814e-23 -3.642104e-23   \n",
       "9998 -5.036675e-21  2.582385e-22  1.224506e-22  3.189655e-23 -7.812957e-24   \n",
       "9999  5.533117e-21 -7.200016e-22  1.472278e-22 -1.492252e-23 -9.910375e-24   \n",
       "\n",
       "      Feature 1565  Feature 1566  Feature 1567  Feature 1568  \n",
       "0    -5.964309e-25 -8.037856e-27  1.607571e-26  1.896144e-27  \n",
       "1    -1.139683e-23 -1.730485e-24 -1.088523e-24 -1.192788e-25  \n",
       "2    -8.811264e-22  2.288049e-22 -6.056319e-23 -1.302198e-23  \n",
       "3    -2.870280e-26 -2.612264e-27 -7.700169e-27 -3.745563e-27  \n",
       "4    -5.779639e-22  5.424119e-21  1.102504e-22 -2.005880e-22  \n",
       "...            ...           ...           ...           ...  \n",
       "9995 -3.236651e-24  4.809522e-25 -1.347239e-25  5.794320e-26  \n",
       "9996  5.641922e-23  1.521738e-23  5.845244e-25  2.289112e-25  \n",
       "9997 -5.222338e-23 -8.629898e-24  1.129773e-24 -2.509890e-26  \n",
       "9998 -2.556415e-24  2.959303e-25  1.060729e-25  1.069585e-25  \n",
       "9999 -9.901138e-24 -2.287262e-24 -9.313975e-25 -4.494966e-25  \n",
       "\n",
       "[10000 rows x 1568 columns]"
      ]
     },
     "execution_count": 9,
     "metadata": {},
     "output_type": "execute_result"
    }
   ],
   "source": [
    "# Cleaning Data\n",
    "X_test=test\n",
    "X_test=X_test.loc[:, ~X_test.columns.str.contains('^Unnamed')]\n",
    "X_test"
   ]
  },
  {
   "cell_type": "code",
   "execution_count": 10,
   "metadata": {},
   "outputs": [
    {
     "name": "stdout",
     "output_type": "stream",
     "text": [
      "(50000, 1568)\n",
      "(10000, 1568)\n",
      "(50000,)\n"
     ]
    }
   ],
   "source": [
    "print(X.shape)\n",
    "print(X_test.shape)\n",
    "print(y.shape)"
   ]
  },
  {
   "cell_type": "code",
   "execution_count": 61,
   "metadata": {},
   "outputs": [
    {
     "name": "stdout",
     "output_type": "stream",
     "text": [
      "Real Number is: 9\n"
     ]
    },
    {
     "data": {
      "image/png": "[encoded data removed]",
      "text/plain": [
       "<Figure size 432x288 with 1 Axes>"
      ]
     },
     "metadata": {
      "needs_background": "light"
     },
     "output_type": "display_data"
    }
   ],
   "source": [
    "# checking the pixel result of train data\n",
    "def PltPixelImg():\n",
    "    idx = np.random.randint(50000)\n",
    "    x_n= X.to_numpy()\n",
    "    exp = x_n[idx].reshape(28,56)\n",
    "    print(\"Real Number is:\", y[idx])\n",
    "    plt.imshow(exp)\n",
    "PltPixelImg()"
   ]
  },
  {
   "cell_type": "code",
   "execution_count": 11,
   "metadata": {},
   "outputs": [],
   "source": [
    "# Normalize the data \n",
    "def normalize(data):\n",
    "    min = np.min(data)\n",
    "    max = np.max(data)\n",
    "    data_normalized =data/(max-min)\n",
    "    return data_normalized"
   ]
  },
  {
   "cell_type": "code",
   "execution_count": 12,
   "metadata": {},
   "outputs": [],
   "source": [
    "# Softmax Activation Function\n",
    "def softmax(z):\n",
    "    return np.exp(z)/np.sum(np.exp(z))"
   ]
  },
  {
   "cell_type": "code",
   "execution_count": 90,
   "metadata": {},
   "outputs": [],
   "source": [
    "# Entropy calculation function\n",
    "def CrossEnt_val(X, Y, b):\n",
    "    \"\"\"\n",
    "    X: data\n",
    "    Y: labels\n",
    "    b: Estimate\n",
    "    \"\"\"\n",
    "    N = X.shape[0]\n",
    "    M = 0.0\n",
    "    for i in range(N):\n",
    "        Xi = X[i]\n",
    "        Yi = Y[i]\n",
    "        xyii = softmax(np.dot(b,Xi))\n",
    "        \"\"\" \n",
    "        Xyii: probability vector X\n",
    "        Yi: probability vector Y\n",
    "        \"\"\"        \n",
    "        M += -np.vdot(Yi, np.log(xyii)) \n",
    "    return M"
   ]
  },
  {
   "cell_type": "code",
   "execution_count": 107,
   "metadata": {},
   "outputs": [],
   "source": [
    "#logistic regression function\n",
    "def LogisticRegression(X, Y, a):\n",
    "    \"\"\"\n",
    "    X: features\n",
    "    Y: labels\n",
    "    a: learning rate\n",
    "    returns : beta - learned paramter , loss - loss function\n",
    "    \"\"\"\n",
    "    Epochs = 75\n",
    "    N, d = X.shape\n",
    "    K = Y.shape[1]\n",
    "    beta = np.zeros((K, d+1)) # Parameter \n",
    "    Loss = []\n",
    "    X = np.insert(X, 0, 1, axis=1)\n",
    "    for epoch in tqdm(range(Epochs)):\n",
    "        L = CrossEnt_val(X, Y, beta) # Entropy Loss\n",
    "        Loss.append(L)\n",
    "        print(\"Epoch \" + str(epoch+1) + \" Cost : \" + str(L))\n",
    "        \n",
    "        rm_sample = np.random.permutation(N) \n",
    "        for i in rm_sample: \n",
    "            gradloss = np.outer(softmax(np.dot(beta , X[i])) - Y[i], X[i]) #adusjtment for parameter\n",
    "            # updating the parameter\n",
    "            beta = beta - a * gradloss\n",
    "    print(\"Training completed!\")\n",
    "    return beta, Loss"
   ]
  },
  {
   "cell_type": "code",
   "execution_count": 104,
   "metadata": {},
   "outputs": [],
   "source": [
    "# Prediction Function\n",
    "def PredictNumber(X, beta):\n",
    "    \"\"\"\n",
    "    X: Test dataset\n",
    "    Beta : Parameter\n",
    "    returns : Predictions\n",
    "    \"\"\"\n",
    "    X = np.insert(X, 0, 1, axis=1)\n",
    "    N = X.shape[0]\n",
    "\n",
    "    predictions = []\n",
    "\n",
    "    for i in range(N):\n",
    "        Prob = softmax(np.dot(beta,X[i])) #returns the probabilities of each label\n",
    "        k = np.argmax(Prob) # Taking Maximum argument as label\n",
    "        predictions.append(k)\n",
    "    return predictions"
   ]
  },
  {
   "cell_type": "code",
   "execution_count": 42,
   "metadata": {},
   "outputs": [],
   "source": [
    "# Split training dataset into Train and Validation Dataset\n",
    "def split_dataset(data,test, size = 0.25):\n",
    "    #Dataframe to array\n",
    "    \"\"\"\n",
    "    data: Training Dataset\n",
    "    test: Trainig labels\n",
    "    size: Split ratio\n",
    "    \"\"\"\n",
    "    Arrdata = data.to_numpy() \n",
    "    Rows = Arrdata.shape[0] \n",
    "    tRows = np.round(Rows * size) \n",
    "    randNum = np.random.randint(0, int(Rows), int(tRows)) \n",
    "    tData = np.array([Arrdata[i] for i in randNum]) \n",
    "    Arrdata = np.delete(Arrdata, randNum, axis = 0) \n",
    "    train_attributes = Arrdata\n",
    "    test_attributes = tData\n",
    "    Arrdata = test.to_numpy()\n",
    "    test_result=np.array([Arrdata[i] for i in randNum])\n",
    "    train_result=np.delete(Arrdata, randNum, axis = 0) \n",
    "    \n",
    "    \n",
    "    return train_attributes, train_result, test_attributes, test_result   \n",
    "\n",
    "# running split_dataset\n",
    "train_attributes, train_result, test_attributes, test_result = split_dataset(X,y, size = 0.25)"
   ]
  },
  {
   "cell_type": "code",
   "execution_count": 43,
   "metadata": {},
   "outputs": [
    {
     "data": {
      "text/plain": [
       "((38932, 1568), (38932,), (12500, 1568), (12500,))"
      ]
     },
     "execution_count": 43,
     "metadata": {},
     "output_type": "execute_result"
    }
   ],
   "source": [
    "#Attributes being Normalized \n",
    "normalized_X=normalize(train_attributes) \n",
    "normalized_Test=normalize(test_attributes)\n",
    "normalized_X.shape, train_result.shape, normalized_Test.shape, test_result.shape"
   ]
  },
  {
   "cell_type": "code",
   "execution_count": 83,
   "metadata": {},
   "outputs": [
    {
     "name": "stdout",
     "output_type": "stream",
     "text": [
      "(38932, 19)\n"
     ]
    },
    {
     "data": {
      "text/plain": [
       "array([[0, 0, 0, ..., 0, 0, 0],\n",
       "       [0, 0, 0, ..., 0, 0, 0],\n",
       "       [0, 0, 0, ..., 0, 0, 0],\n",
       "       ...,\n",
       "       [0, 1, 0, ..., 0, 0, 0],\n",
       "       [0, 0, 0, ..., 0, 0, 0],\n",
       "       [0, 0, 0, ..., 0, 0, 0]], dtype=uint8)"
      ]
     },
     "execution_count": 83,
     "metadata": {},
     "output_type": "execute_result"
    }
   ],
   "source": [
    "reshape_train_label = train_result.reshape(train_result.shape[0],)\n",
    "one_hot_encoded_train_label = pd.get_dummies(reshape_train_label).values\n",
    "print(one_hot_encoded_train_label.shape)\n",
    "one_hot_encoded_train_label"
   ]
  },
  {
   "cell_type": "code",
   "execution_count": 108,
   "metadata": {},
   "outputs": [
    {
     "name": "stderr",
     "output_type": "stream",
     "text": [
      "  0%|          | 0/75 [00:00<?, ?it/s]"
     ]
    },
    {
     "name": "stdout",
     "output_type": "stream",
     "text": [
      "Epoch 1 Cost : 114632.89833683378\n"
     ]
    },
    {
     "name": "stderr",
     "output_type": "stream",
     "text": [
      "  1%|▏         | 1/75 [00:07<09:48,  7.95s/it]"
     ]
    },
    {
     "name": "stdout",
     "output_type": "stream",
     "text": [
      "Epoch 2 Cost : 94338.752935643\n"
     ]
    },
    {
     "name": "stderr",
     "output_type": "stream",
     "text": [
      "  3%|▎         | 2/75 [00:14<08:21,  6.87s/it]"
     ]
    },
    {
     "name": "stdout",
     "output_type": "stream",
     "text": [
      "Epoch 3 Cost : 93010.02109771548\n"
     ]
    },
    {
     "name": "stderr",
     "output_type": "stream",
     "text": [
      "  4%|▍         | 3/75 [00:20<08:09,  6.80s/it]"
     ]
    },
    {
     "name": "stdout",
     "output_type": "stream",
     "text": [
      "Epoch 4 Cost : 91413.66406469657\n"
     ]
    },
    {
     "name": "stderr",
     "output_type": "stream",
     "text": [
      "  5%|▌         | 4/75 [00:27<08:00,  6.76s/it]"
     ]
    },
    {
     "name": "stdout",
     "output_type": "stream",
     "text": [
      "Epoch 5 Cost : 92231.80657494921\n"
     ]
    },
    {
     "name": "stderr",
     "output_type": "stream",
     "text": [
      "  7%|▋         | 5/75 [00:34<07:50,  6.71s/it]"
     ]
    },
    {
     "name": "stdout",
     "output_type": "stream",
     "text": [
      "Epoch 6 Cost : 88481.71842762365\n"
     ]
    },
    {
     "name": "stderr",
     "output_type": "stream",
     "text": [
      "  8%|▊         | 6/75 [00:40<07:42,  6.70s/it]"
     ]
    },
    {
     "name": "stdout",
     "output_type": "stream",
     "text": [
      "Epoch 7 Cost : 96670.9608121034\n"
     ]
    },
    {
     "name": "stderr",
     "output_type": "stream",
     "text": [
      "  9%|▉         | 7/75 [00:47<07:33,  6.68s/it]"
     ]
    },
    {
     "name": "stdout",
     "output_type": "stream",
     "text": [
      "Epoch 8 Cost : 88139.63729811917\n"
     ]
    },
    {
     "name": "stderr",
     "output_type": "stream",
     "text": [
      " 11%|█         | 8/75 [00:54<07:26,  6.67s/it]"
     ]
    },
    {
     "name": "stdout",
     "output_type": "stream",
     "text": [
      "Epoch 9 Cost : 87581.29108403239\n"
     ]
    },
    {
     "name": "stderr",
     "output_type": "stream",
     "text": [
      " 12%|█▏        | 9/75 [01:00<07:18,  6.65s/it]"
     ]
    },
    {
     "name": "stdout",
     "output_type": "stream",
     "text": [
      "Epoch 10 Cost : 93123.8489086884\n"
     ]
    },
    {
     "name": "stderr",
     "output_type": "stream",
     "text": [
      " 13%|█▎        | 10/75 [01:07<07:12,  6.65s/it]"
     ]
    },
    {
     "name": "stdout",
     "output_type": "stream",
     "text": [
      "Epoch 11 Cost : 89520.70871454455\n"
     ]
    },
    {
     "name": "stderr",
     "output_type": "stream",
     "text": [
      " 15%|█▍        | 11/75 [01:13<07:05,  6.64s/it]"
     ]
    },
    {
     "name": "stdout",
     "output_type": "stream",
     "text": [
      "Epoch 12 Cost : 90821.15913515886\n"
     ]
    },
    {
     "name": "stderr",
     "output_type": "stream",
     "text": [
      " 16%|█▌        | 12/75 [01:20<06:58,  6.64s/it]"
     ]
    },
    {
     "name": "stdout",
     "output_type": "stream",
     "text": [
      "Epoch 13 Cost : 96322.16526909753\n"
     ]
    },
    {
     "name": "stderr",
     "output_type": "stream",
     "text": [
      " 17%|█▋        | 13/75 [01:27<06:51,  6.64s/it]"
     ]
    },
    {
     "name": "stdout",
     "output_type": "stream",
     "text": [
      "Epoch 14 Cost : 88838.40768917535\n"
     ]
    },
    {
     "name": "stderr",
     "output_type": "stream",
     "text": [
      " 19%|█▊        | 14/75 [01:33<06:46,  6.66s/it]"
     ]
    },
    {
     "name": "stdout",
     "output_type": "stream",
     "text": [
      "Epoch 15 Cost : 87491.3594824647\n"
     ]
    },
    {
     "name": "stderr",
     "output_type": "stream",
     "text": [
      " 20%|██        | 15/75 [01:40<06:38,  6.64s/it]"
     ]
    },
    {
     "name": "stdout",
     "output_type": "stream",
     "text": [
      "Epoch 16 Cost : 87768.21925430688\n"
     ]
    },
    {
     "name": "stderr",
     "output_type": "stream",
     "text": [
      " 21%|██▏       | 16/75 [01:47<06:32,  6.65s/it]"
     ]
    },
    {
     "name": "stdout",
     "output_type": "stream",
     "text": [
      "Epoch 17 Cost : 87093.7313844088\n"
     ]
    },
    {
     "name": "stderr",
     "output_type": "stream",
     "text": [
      " 23%|██▎       | 17/75 [01:53<06:24,  6.63s/it]"
     ]
    },
    {
     "name": "stdout",
     "output_type": "stream",
     "text": [
      "Epoch 18 Cost : 88450.35489851513\n"
     ]
    },
    {
     "name": "stderr",
     "output_type": "stream",
     "text": [
      " 24%|██▍       | 18/75 [02:00<06:18,  6.64s/it]"
     ]
    },
    {
     "name": "stdout",
     "output_type": "stream",
     "text": [
      "Epoch 19 Cost : 98307.68514179207\n"
     ]
    },
    {
     "name": "stderr",
     "output_type": "stream",
     "text": [
      " 25%|██▌       | 19/75 [02:07<06:16,  6.73s/it]"
     ]
    },
    {
     "name": "stdout",
     "output_type": "stream",
     "text": [
      "Epoch 20 Cost : 96694.36769770614\n"
     ]
    },
    {
     "name": "stderr",
     "output_type": "stream",
     "text": [
      " 27%|██▋       | 20/75 [02:14<06:12,  6.77s/it]"
     ]
    },
    {
     "name": "stdout",
     "output_type": "stream",
     "text": [
      "Epoch 21 Cost : 85598.60122066914\n"
     ]
    },
    {
     "name": "stderr",
     "output_type": "stream",
     "text": [
      " 28%|██▊       | 21/75 [02:20<06:02,  6.72s/it]"
     ]
    },
    {
     "name": "stdout",
     "output_type": "stream",
     "text": [
      "Epoch 22 Cost : 91089.65907941136\n"
     ]
    },
    {
     "name": "stderr",
     "output_type": "stream",
     "text": [
      " 29%|██▉       | 22/75 [02:27<05:54,  6.70s/it]"
     ]
    },
    {
     "name": "stdout",
     "output_type": "stream",
     "text": [
      "Epoch 23 Cost : 86566.73490993535\n"
     ]
    },
    {
     "name": "stderr",
     "output_type": "stream",
     "text": [
      " 31%|███       | 23/75 [02:34<05:46,  6.67s/it]"
     ]
    },
    {
     "name": "stdout",
     "output_type": "stream",
     "text": [
      "Epoch 24 Cost : 84907.03866820385\n"
     ]
    },
    {
     "name": "stderr",
     "output_type": "stream",
     "text": [
      " 32%|███▏      | 24/75 [02:40<05:39,  6.65s/it]"
     ]
    },
    {
     "name": "stdout",
     "output_type": "stream",
     "text": [
      "Epoch 25 Cost : 89202.57777311771\n"
     ]
    },
    {
     "name": "stderr",
     "output_type": "stream",
     "text": [
      " 33%|███▎      | 25/75 [02:47<05:31,  6.64s/it]"
     ]
    },
    {
     "name": "stdout",
     "output_type": "stream",
     "text": [
      "Epoch 26 Cost : 87612.46815034127\n"
     ]
    },
    {
     "name": "stderr",
     "output_type": "stream",
     "text": [
      " 35%|███▍      | 26/75 [02:53<05:25,  6.64s/it]"
     ]
    },
    {
     "name": "stdout",
     "output_type": "stream",
     "text": [
      "Epoch 27 Cost : 87005.3870783034\n"
     ]
    },
    {
     "name": "stderr",
     "output_type": "stream",
     "text": [
      " 36%|███▌      | 27/75 [03:00<05:18,  6.65s/it]"
     ]
    },
    {
     "name": "stdout",
     "output_type": "stream",
     "text": [
      "Epoch 28 Cost : 86244.95690625429\n"
     ]
    },
    {
     "name": "stderr",
     "output_type": "stream",
     "text": [
      " 37%|███▋      | 28/75 [03:07<05:12,  6.66s/it]"
     ]
    },
    {
     "name": "stdout",
     "output_type": "stream",
     "text": [
      "Epoch 29 Cost : 83881.78767622232\n"
     ]
    },
    {
     "name": "stderr",
     "output_type": "stream",
     "text": [
      " 39%|███▊      | 29/75 [03:13<05:05,  6.64s/it]"
     ]
    },
    {
     "name": "stdout",
     "output_type": "stream",
     "text": [
      "Epoch 30 Cost : 84645.16525179299\n"
     ]
    },
    {
     "name": "stderr",
     "output_type": "stream",
     "text": [
      " 40%|████      | 30/75 [03:20<04:58,  6.63s/it]"
     ]
    },
    {
     "name": "stdout",
     "output_type": "stream",
     "text": [
      "Epoch 31 Cost : 83465.02696834353\n"
     ]
    },
    {
     "name": "stderr",
     "output_type": "stream",
     "text": [
      " 41%|████▏     | 31/75 [03:27<04:51,  6.62s/it]"
     ]
    },
    {
     "name": "stdout",
     "output_type": "stream",
     "text": [
      "Epoch 32 Cost : 88312.69404618797\n"
     ]
    },
    {
     "name": "stderr",
     "output_type": "stream",
     "text": [
      " 43%|████▎     | 32/75 [03:34<04:54,  6.84s/it]"
     ]
    },
    {
     "name": "stdout",
     "output_type": "stream",
     "text": [
      "Epoch 33 Cost : 92703.43261767997\n"
     ]
    },
    {
     "name": "stderr",
     "output_type": "stream",
     "text": [
      " 44%|████▍     | 33/75 [03:41<04:47,  6.85s/it]"
     ]
    },
    {
     "name": "stdout",
     "output_type": "stream",
     "text": [
      "Epoch 34 Cost : 90104.7766397182\n"
     ]
    },
    {
     "name": "stderr",
     "output_type": "stream",
     "text": [
      " 45%|████▌     | 34/75 [03:48<04:40,  6.85s/it]"
     ]
    },
    {
     "name": "stdout",
     "output_type": "stream",
     "text": [
      "Epoch 35 Cost : 92535.30997383887\n"
     ]
    },
    {
     "name": "stderr",
     "output_type": "stream",
     "text": [
      " 47%|████▋     | 35/75 [03:54<04:32,  6.82s/it]"
     ]
    },
    {
     "name": "stdout",
     "output_type": "stream",
     "text": [
      "Epoch 36 Cost : 87034.77632024333\n"
     ]
    },
    {
     "name": "stderr",
     "output_type": "stream",
     "text": [
      " 48%|████▊     | 36/75 [04:01<04:24,  6.79s/it]"
     ]
    },
    {
     "name": "stdout",
     "output_type": "stream",
     "text": [
      "Epoch 37 Cost : 85502.28920735275\n"
     ]
    },
    {
     "name": "stderr",
     "output_type": "stream",
     "text": [
      " 49%|████▉     | 37/75 [04:08<04:17,  6.77s/it]"
     ]
    },
    {
     "name": "stdout",
     "output_type": "stream",
     "text": [
      "Epoch 38 Cost : 86024.47718895918\n"
     ]
    },
    {
     "name": "stderr",
     "output_type": "stream",
     "text": [
      " 51%|█████     | 38/75 [04:15<04:09,  6.75s/it]"
     ]
    },
    {
     "name": "stdout",
     "output_type": "stream",
     "text": [
      "Epoch 39 Cost : 86284.45926146602\n"
     ]
    },
    {
     "name": "stderr",
     "output_type": "stream",
     "text": [
      " 52%|█████▏    | 39/75 [04:21<04:01,  6.72s/it]"
     ]
    },
    {
     "name": "stdout",
     "output_type": "stream",
     "text": [
      "Epoch 40 Cost : 90675.43470344156\n"
     ]
    },
    {
     "name": "stderr",
     "output_type": "stream",
     "text": [
      " 53%|█████▎    | 40/75 [04:28<03:55,  6.74s/it]"
     ]
    },
    {
     "name": "stdout",
     "output_type": "stream",
     "text": [
      "Epoch 41 Cost : 89796.7480242545\n"
     ]
    },
    {
     "name": "stderr",
     "output_type": "stream",
     "text": [
      " 55%|█████▍    | 41/75 [04:35<03:50,  6.79s/it]"
     ]
    },
    {
     "name": "stdout",
     "output_type": "stream",
     "text": [
      "Epoch 42 Cost : 86736.65074510175\n"
     ]
    },
    {
     "name": "stderr",
     "output_type": "stream",
     "text": [
      " 56%|█████▌    | 42/75 [04:42<03:51,  7.00s/it]"
     ]
    },
    {
     "name": "stdout",
     "output_type": "stream",
     "text": [
      "Epoch 43 Cost : 85661.75579001423\n"
     ]
    },
    {
     "name": "stderr",
     "output_type": "stream",
     "text": [
      " 57%|█████▋    | 43/75 [04:50<03:46,  7.08s/it]"
     ]
    },
    {
     "name": "stdout",
     "output_type": "stream",
     "text": [
      "Epoch 44 Cost : 82446.09282179696\n"
     ]
    },
    {
     "name": "stderr",
     "output_type": "stream",
     "text": [
      " 59%|█████▊    | 44/75 [04:57<03:40,  7.10s/it]"
     ]
    },
    {
     "name": "stdout",
     "output_type": "stream",
     "text": [
      "Epoch 45 Cost : 87605.29880042466\n"
     ]
    },
    {
     "name": "stderr",
     "output_type": "stream",
     "text": [
      " 60%|██████    | 45/75 [05:04<03:30,  7.02s/it]"
     ]
    },
    {
     "name": "stdout",
     "output_type": "stream",
     "text": [
      "Epoch 46 Cost : 85734.3020567686\n"
     ]
    },
    {
     "name": "stderr",
     "output_type": "stream",
     "text": [
      " 61%|██████▏   | 46/75 [05:10<03:21,  6.94s/it]"
     ]
    },
    {
     "name": "stdout",
     "output_type": "stream",
     "text": [
      "Epoch 47 Cost : 84728.92908894384\n"
     ]
    },
    {
     "name": "stderr",
     "output_type": "stream",
     "text": [
      " 63%|██████▎   | 47/75 [05:17<03:12,  6.87s/it]"
     ]
    },
    {
     "name": "stdout",
     "output_type": "stream",
     "text": [
      "Epoch 48 Cost : 87062.28053219712\n"
     ]
    },
    {
     "name": "stderr",
     "output_type": "stream",
     "text": [
      " 64%|██████▍   | 48/75 [05:24<03:04,  6.85s/it]"
     ]
    },
    {
     "name": "stdout",
     "output_type": "stream",
     "text": [
      "Epoch 49 Cost : 84773.96481730675\n"
     ]
    },
    {
     "name": "stderr",
     "output_type": "stream",
     "text": [
      " 65%|██████▌   | 49/75 [05:31<02:57,  6.82s/it]"
     ]
    },
    {
     "name": "stdout",
     "output_type": "stream",
     "text": [
      "Epoch 50 Cost : 84228.63251327007\n"
     ]
    },
    {
     "name": "stderr",
     "output_type": "stream",
     "text": [
      " 67%|██████▋   | 50/75 [05:37<02:49,  6.80s/it]"
     ]
    },
    {
     "name": "stdout",
     "output_type": "stream",
     "text": [
      "Epoch 51 Cost : 86917.82907504337\n"
     ]
    },
    {
     "name": "stderr",
     "output_type": "stream",
     "text": [
      " 68%|██████▊   | 51/75 [05:44<02:42,  6.76s/it]"
     ]
    },
    {
     "name": "stdout",
     "output_type": "stream",
     "text": [
      "Epoch 52 Cost : 85976.21846798602\n"
     ]
    },
    {
     "name": "stderr",
     "output_type": "stream",
     "text": [
      " 69%|██████▉   | 52/75 [05:51<02:35,  6.75s/it]"
     ]
    },
    {
     "name": "stdout",
     "output_type": "stream",
     "text": [
      "Epoch 53 Cost : 84174.49467499091\n"
     ]
    },
    {
     "name": "stderr",
     "output_type": "stream",
     "text": [
      " 71%|███████   | 53/75 [05:58<02:28,  6.76s/it]"
     ]
    },
    {
     "name": "stdout",
     "output_type": "stream",
     "text": [
      "Epoch 54 Cost : 86397.93091139475\n"
     ]
    },
    {
     "name": "stderr",
     "output_type": "stream",
     "text": [
      " 72%|███████▏  | 54/75 [06:04<02:22,  6.77s/it]"
     ]
    },
    {
     "name": "stdout",
     "output_type": "stream",
     "text": [
      "Epoch 55 Cost : 87181.33924715083\n"
     ]
    },
    {
     "name": "stderr",
     "output_type": "stream",
     "text": [
      " 73%|███████▎  | 55/75 [06:11<02:14,  6.74s/it]"
     ]
    },
    {
     "name": "stdout",
     "output_type": "stream",
     "text": [
      "Epoch 56 Cost : 84851.8841290104\n"
     ]
    },
    {
     "name": "stderr",
     "output_type": "stream",
     "text": [
      " 75%|███████▍  | 56/75 [06:19<02:13,  7.00s/it]"
     ]
    },
    {
     "name": "stdout",
     "output_type": "stream",
     "text": [
      "Epoch 57 Cost : 83680.41059706494\n"
     ]
    },
    {
     "name": "stderr",
     "output_type": "stream",
     "text": [
      " 76%|███████▌  | 57/75 [06:25<02:04,  6.92s/it]"
     ]
    },
    {
     "name": "stdout",
     "output_type": "stream",
     "text": [
      "Epoch 58 Cost : 87846.98050102699\n"
     ]
    },
    {
     "name": "stderr",
     "output_type": "stream",
     "text": [
      " 77%|███████▋  | 58/75 [06:32<01:55,  6.79s/it]"
     ]
    },
    {
     "name": "stdout",
     "output_type": "stream",
     "text": [
      "Epoch 59 Cost : 92889.4040822144\n"
     ]
    },
    {
     "name": "stderr",
     "output_type": "stream",
     "text": [
      " 79%|███████▊  | 59/75 [06:38<01:46,  6.66s/it]"
     ]
    },
    {
     "name": "stdout",
     "output_type": "stream",
     "text": [
      "Epoch 60 Cost : 84237.51033647337\n"
     ]
    },
    {
     "name": "stderr",
     "output_type": "stream",
     "text": [
      " 80%|████████  | 60/75 [06:45<01:38,  6.60s/it]"
     ]
    },
    {
     "name": "stdout",
     "output_type": "stream",
     "text": [
      "Epoch 61 Cost : 83200.10681960975\n"
     ]
    },
    {
     "name": "stderr",
     "output_type": "stream",
     "text": [
      " 81%|████████▏ | 61/75 [06:51<01:32,  6.60s/it]"
     ]
    },
    {
     "name": "stdout",
     "output_type": "stream",
     "text": [
      "Epoch 62 Cost : 85823.6006673996\n"
     ]
    },
    {
     "name": "stderr",
     "output_type": "stream",
     "text": [
      " 83%|████████▎ | 62/75 [06:58<01:26,  6.63s/it]"
     ]
    },
    {
     "name": "stdout",
     "output_type": "stream",
     "text": [
      "Epoch 63 Cost : 83632.0043368711\n"
     ]
    },
    {
     "name": "stderr",
     "output_type": "stream",
     "text": [
      " 84%|████████▍ | 63/75 [07:06<01:23,  6.98s/it]"
     ]
    },
    {
     "name": "stdout",
     "output_type": "stream",
     "text": [
      "Epoch 64 Cost : 87487.58398260297\n"
     ]
    },
    {
     "name": "stderr",
     "output_type": "stream",
     "text": [
      " 85%|████████▌ | 64/75 [07:13<01:16,  6.99s/it]"
     ]
    },
    {
     "name": "stdout",
     "output_type": "stream",
     "text": [
      "Epoch 65 Cost : 93566.3117168746\n"
     ]
    },
    {
     "name": "stderr",
     "output_type": "stream",
     "text": [
      " 87%|████████▋ | 65/75 [07:20<01:10,  7.01s/it]"
     ]
    },
    {
     "name": "stdout",
     "output_type": "stream",
     "text": [
      "Epoch 66 Cost : 84306.32038082303\n"
     ]
    },
    {
     "name": "stderr",
     "output_type": "stream",
     "text": [
      " 88%|████████▊ | 66/75 [07:27<01:02,  6.94s/it]"
     ]
    },
    {
     "name": "stdout",
     "output_type": "stream",
     "text": [
      "Epoch 67 Cost : 87340.1516797898\n"
     ]
    },
    {
     "name": "stderr",
     "output_type": "stream",
     "text": [
      " 89%|████████▉ | 67/75 [07:34<00:55,  6.92s/it]"
     ]
    },
    {
     "name": "stdout",
     "output_type": "stream",
     "text": [
      "Epoch 68 Cost : 86075.64763553216\n"
     ]
    },
    {
     "name": "stderr",
     "output_type": "stream",
     "text": [
      " 91%|█████████ | 68/75 [07:41<00:49,  7.05s/it]"
     ]
    },
    {
     "name": "stdout",
     "output_type": "stream",
     "text": [
      "Epoch 69 Cost : 83856.81841022489\n"
     ]
    },
    {
     "name": "stderr",
     "output_type": "stream",
     "text": [
      " 92%|█████████▏| 69/75 [07:48<00:42,  7.05s/it]"
     ]
    },
    {
     "name": "stdout",
     "output_type": "stream",
     "text": [
      "Epoch 70 Cost : 81706.93732389656\n"
     ]
    },
    {
     "name": "stderr",
     "output_type": "stream",
     "text": [
      " 93%|█████████▎| 70/75 [07:55<00:34,  6.99s/it]"
     ]
    },
    {
     "name": "stdout",
     "output_type": "stream",
     "text": [
      "Epoch 71 Cost : 84397.39991124015\n"
     ]
    },
    {
     "name": "stderr",
     "output_type": "stream",
     "text": [
      " 95%|█████████▍| 71/75 [08:01<00:27,  6.91s/it]"
     ]
    },
    {
     "name": "stdout",
     "output_type": "stream",
     "text": [
      "Epoch 72 Cost : 87610.99205368619\n"
     ]
    },
    {
     "name": "stderr",
     "output_type": "stream",
     "text": [
      " 96%|█████████▌| 72/75 [08:08<00:20,  6.87s/it]"
     ]
    },
    {
     "name": "stdout",
     "output_type": "stream",
     "text": [
      "Epoch 73 Cost : 85754.24470903254\n"
     ]
    },
    {
     "name": "stderr",
     "output_type": "stream",
     "text": [
      " 97%|█████████▋| 73/75 [08:15<00:13,  6.83s/it]"
     ]
    },
    {
     "name": "stdout",
     "output_type": "stream",
     "text": [
      "Epoch 74 Cost : 89157.48252047635\n"
     ]
    },
    {
     "name": "stderr",
     "output_type": "stream",
     "text": [
      " 99%|█████████▊| 74/75 [08:22<00:06,  6.80s/it]"
     ]
    },
    {
     "name": "stdout",
     "output_type": "stream",
     "text": [
      "Epoch 75 Cost : 86789.54991114167\n"
     ]
    },
    {
     "name": "stderr",
     "output_type": "stream",
     "text": [
      "100%|██████████| 75/75 [08:29<00:00,  6.79s/it]\n"
     ]
    },
    {
     "name": "stdout",
     "output_type": "stream",
     "text": [
      "Training completed!\n"
     ]
    }
   ],
   "source": [
    "beta, Lvals = LogisticRegression(normalized_X, one_hot_encoded_train_label, a=0.01)"
   ]
  },
  {
   "cell_type": "code",
   "execution_count": 95,
   "metadata": {},
   "outputs": [
    {
     "data": {
      "text/plain": [
       "(19, 1569)"
      ]
     },
     "execution_count": 95,
     "metadata": {},
     "output_type": "execute_result"
    }
   ],
   "source": [
    "beta.shape"
   ]
  },
  {
   "cell_type": "code",
   "execution_count": 109,
   "metadata": {},
   "outputs": [
    {
     "data": {
      "text/plain": [
       "Text(0, 0.5, 'Cost')"
      ]
     },
     "execution_count": 109,
     "metadata": {},
     "output_type": "execute_result"
    },
    {
     "data": {
      "image/png": "[encoded data removed]",
      "text/plain": [
       "<Figure size 432x288 with 1 Axes>"
      ]
     },
     "metadata": {
      "needs_background": "light"
     },
     "output_type": "display_data"
    }
   ],
   "source": [
    "plt.plot(range(len(Lvals)),Lvals)\n",
    "plt.title('Evolution of the cost by iteration')\n",
    "plt.xlabel('Iterations')\n",
    "plt.ylabel('Cost')"
   ]
  },
  {
   "cell_type": "markdown",
   "metadata": {},
   "source": [
    "#### Testing with validation Data"
   ]
  },
  {
   "cell_type": "code",
   "execution_count": 110,
   "metadata": {},
   "outputs": [],
   "source": [
    "predictions = PredictNumber(normalized_Test, beta)"
   ]
  },
  {
   "cell_type": "code",
   "execution_count": 79,
   "metadata": {},
   "outputs": [
    {
     "data": {
      "image/png": "[encoded data removed]",
      "text/plain": [
       "<Figure size 1008x576 with 6 Axes>"
      ]
     },
     "metadata": {
      "needs_background": "light"
     },
     "output_type": "display_data"
    }
   ],
   "source": [
    "plt.figure(figsize=(14,8))\n",
    "for i in range(6):\n",
    "    x_n= X.to_numpy()\n",
    "    image = x_n[i].reshape(28,56)\n",
    "    plt.subplot(2,3,i+1)\n",
    "    plt.imshow(image)\n",
    "    title = f\"True label is: {y[i]}, predicted as: {predictions[i]}\"\n",
    "    plt.title(title)"
   ]
  },
  {
   "cell_type": "markdown",
   "metadata": {},
   "source": [
    "#### Validation Set Accuracy"
   ]
  },
  {
   "cell_type": "code",
   "execution_count": 111,
   "metadata": {},
   "outputs": [
    {
     "name": "stdout",
     "output_type": "stream",
     "text": [
      "accuracy:  0.194\n"
     ]
    }
   ],
   "source": [
    "numCorrect = 0\n",
    "test_y = np.array(test_result)\n",
    "numTest = test_y.shape[0]\n",
    "for i in range(numTest):\n",
    "    if predictions[i] == test_y[i]:\n",
    "        numCorrect += 1\n",
    "\n",
    "accuracy = numCorrect/numTest\n",
    "print(\"accuracy: \", str(accuracy))"
   ]
  },
  {
   "cell_type": "markdown",
   "metadata": {},
   "source": [
    "#### Testing on Real test data"
   ]
  },
  {
   "cell_type": "code",
   "execution_count": 69,
   "metadata": {},
   "outputs": [],
   "source": [
    "test_result_cnn=pd.read_csv('data/test_result_final.csv')\n",
    "Y_test=test_result_cnn['Class'].values"
   ]
  },
  {
   "cell_type": "code",
   "execution_count": 70,
   "metadata": {},
   "outputs": [],
   "source": [
    "predictions_final_test = PredictNumber(X_test.values, beta)"
   ]
  },
  {
   "cell_type": "markdown",
   "metadata": {},
   "source": [
    "#### Checking Accuracy against Test result from CNN"
   ]
  },
  {
   "cell_type": "code",
   "execution_count": 112,
   "metadata": {},
   "outputs": [
    {
     "name": "stdout",
     "output_type": "stream",
     "text": [
      "accuracy:  0.2209\n"
     ]
    }
   ],
   "source": [
    "numCorrect = 0\n",
    "test_y = np.array(Y_test)\n",
    "numTest = test_y.shape[0]\n",
    "for i in range(numTest):\n",
    "    if predictions_final_test[i] == test_y[i]:\n",
    "        numCorrect += 1\n",
    "\n",
    "accuracy = numCorrect/numTest\n",
    "print(\"accuracy: \", str(accuracy))"
   ]
  },
  {
   "cell_type": "code",
   "execution_count": 72,
   "metadata": {},
   "outputs": [
    {
     "data": {
      "text/html": [
       "<div>\n",
       "<style scoped>\n",
       "    .dataframe tbody tr th:only-of-type {\n",
       "        vertical-align: middle;\n",
       "    }\n",
       "\n",
       "    .dataframe tbody tr th {\n",
       "        vertical-align: top;\n",
       "    }\n",
       "\n",
       "    .dataframe thead th {\n",
       "        text-align: right;\n",
       "    }\n",
       "</style>\n",
       "<table border=\"1\" class=\"dataframe\">\n",
       "  <thead>\n",
       "    <tr style=\"text-align: right;\">\n",
       "      <th></th>\n",
       "      <th>Index</th>\n",
       "      <th>Class</th>\n",
       "    </tr>\n",
       "  </thead>\n",
       "  <tbody>\n",
       "    <tr>\n",
       "      <th>0</th>\n",
       "      <td>0</td>\n",
       "      <td>10</td>\n",
       "    </tr>\n",
       "    <tr>\n",
       "      <th>1</th>\n",
       "      <td>1</td>\n",
       "      <td>9</td>\n",
       "    </tr>\n",
       "    <tr>\n",
       "      <th>2</th>\n",
       "      <td>2</td>\n",
       "      <td>9</td>\n",
       "    </tr>\n",
       "    <tr>\n",
       "      <th>3</th>\n",
       "      <td>3</td>\n",
       "      <td>8</td>\n",
       "    </tr>\n",
       "    <tr>\n",
       "      <th>4</th>\n",
       "      <td>4</td>\n",
       "      <td>4</td>\n",
       "    </tr>\n",
       "    <tr>\n",
       "      <th>...</th>\n",
       "      <td>...</td>\n",
       "      <td>...</td>\n",
       "    </tr>\n",
       "    <tr>\n",
       "      <th>9995</th>\n",
       "      <td>9995</td>\n",
       "      <td>9</td>\n",
       "    </tr>\n",
       "    <tr>\n",
       "      <th>9996</th>\n",
       "      <td>9996</td>\n",
       "      <td>14</td>\n",
       "    </tr>\n",
       "    <tr>\n",
       "      <th>9997</th>\n",
       "      <td>9997</td>\n",
       "      <td>9</td>\n",
       "    </tr>\n",
       "    <tr>\n",
       "      <th>9998</th>\n",
       "      <td>9998</td>\n",
       "      <td>5</td>\n",
       "    </tr>\n",
       "    <tr>\n",
       "      <th>9999</th>\n",
       "      <td>9999</td>\n",
       "      <td>6</td>\n",
       "    </tr>\n",
       "  </tbody>\n",
       "</table>\n",
       "<p>10000 rows × 2 columns</p>\n",
       "</div>"
      ],
      "text/plain": [
       "      Index  Class\n",
       "0         0     10\n",
       "1         1      9\n",
       "2         2      9\n",
       "3         3      8\n",
       "4         4      4\n",
       "...     ...    ...\n",
       "9995   9995      9\n",
       "9996   9996     14\n",
       "9997   9997      9\n",
       "9998   9998      5\n",
       "9999   9999      6\n",
       "\n",
       "[10000 rows x 2 columns]"
      ]
     },
     "execution_count": 72,
     "metadata": {},
     "output_type": "execute_result"
    }
   ],
   "source": [
    "test_pred = pd.DataFrame(predictions_final_test)\n",
    "test_pred.index.name = 'Index'\n",
    "test_pred = test_pred.rename(columns = {0: 'Class'}).reset_index()\n",
    "test_pred"
   ]
  },
  {
   "cell_type": "code",
   "execution_count": null,
   "metadata": {},
   "outputs": [],
   "source": [
    "test_pred.to_csv('test_result_LR.csv', index = False)"
   ]
  }
 ],
 "metadata": {
  "kernelspec": {
   "display_name": "Python 3.9.5 64-bit",
   "language": "python",
   "name": "python3"
  },
  "language_info": {
   "codemirror_mode": {
    "name": "ipython",
    "version": 3
   },
   "file_extension": ".py",
   "mimetype": "text/x-python",
   "name": "python",
   "nbconvert_exporter": "python",
   "pygments_lexer": "ipython3",
   "version": "3.9.5"
  },
  "orig_nbformat": 4,
  "vscode": {
   "interpreter": {
    "hash": "d61781545167b8b32de0da47e57ae0966b0c567288238af2a799ba412f5acf0e"
   }
  }
 },
 "nbformat": 4,
 "nbformat_minor": 2
}
